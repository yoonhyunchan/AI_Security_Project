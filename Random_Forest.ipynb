{
 "cells": [
  {
   "cell_type": "markdown",
   "id": "928fe8c7",
   "metadata": {},
   "source": [
    "# Random Forest"
   ]
  },
  {
   "cell_type": "markdown",
   "id": "cc6286e5",
   "metadata": {},
   "source": [
    "## Library Import"
   ]
  },
  {
   "cell_type": "code",
   "execution_count": 1,
   "id": "3f99ad95",
   "metadata": {},
   "outputs": [],
   "source": [
    "import pandas as pd\n",
    "import numpy as np\n",
    "import matplotlib.pyplot as plt\n",
    "\n",
    "from sklearn.ensemble import RandomForestClassifier\n",
    "from sklearn.datasets import make_classification\n",
    "from sklearn.model_selection import train_test_split\n",
    "from sklearn.preprocessing import LabelEncoder\n",
    "from sklearn.metrics import accuracy_score, confusion_matrix, classification_report\n",
    "from sklearn.model_selection import GridSearchCV\n",
    "\n",
    "import glob\n",
    "import os\n",
    "import seaborn as sns\n",
    "import warnings"
   ]
  },
  {
   "cell_type": "code",
   "execution_count": 2,
   "id": "e7072ef1",
   "metadata": {},
   "outputs": [],
   "source": [
    "warnings.filterwarnings('ignore')"
   ]
  },
  {
   "cell_type": "markdown",
   "id": "ebe3b901",
   "metadata": {},
   "source": [
    "## Data Import"
   ]
  },
  {
   "cell_type": "code",
   "execution_count": 3,
   "id": "90b4cfb6",
   "metadata": {},
   "outputs": [
    {
     "name": "stdout",
     "output_type": "stream",
     "text": [
      "./Bot_Iot_Data_File/Entire_Dataset/UNSW_2018_IoT_Botnet_Final_10_Best.csv\r\n"
     ]
    }
   ],
   "source": [
    "! ls ./Bot_Iot_Data_File/Entire_Dataset/UNSW_2018_IoT_Botnet_Final_10_Best.csv"
   ]
  },
  {
   "cell_type": "code",
   "execution_count": 4,
   "id": "a1df6e7b",
   "metadata": {},
   "outputs": [
    {
     "data": {
      "text/html": [
       "<div>\n",
       "<style scoped>\n",
       "    .dataframe tbody tr th:only-of-type {\n",
       "        vertical-align: middle;\n",
       "    }\n",
       "\n",
       "    .dataframe tbody tr th {\n",
       "        vertical-align: top;\n",
       "    }\n",
       "\n",
       "    .dataframe thead th {\n",
       "        text-align: right;\n",
       "    }\n",
       "</style>\n",
       "<table border=\"1\" class=\"dataframe\">\n",
       "  <thead>\n",
       "    <tr style=\"text-align: right;\">\n",
       "      <th></th>\n",
       "      <th>pkSeqID</th>\n",
       "      <th>proto</th>\n",
       "      <th>saddr</th>\n",
       "      <th>sport</th>\n",
       "      <th>daddr</th>\n",
       "      <th>dport</th>\n",
       "      <th>seq</th>\n",
       "      <th>stddev</th>\n",
       "      <th>N_IN_Conn_P_SrcIP</th>\n",
       "      <th>min</th>\n",
       "      <th>state_number</th>\n",
       "      <th>mean</th>\n",
       "      <th>N_IN_Conn_P_DstIP</th>\n",
       "      <th>drate</th>\n",
       "      <th>srate</th>\n",
       "      <th>max</th>\n",
       "      <th>attack</th>\n",
       "      <th>category</th>\n",
       "      <th>subcategory</th>\n",
       "    </tr>\n",
       "  </thead>\n",
       "  <tbody>\n",
       "    <tr>\n",
       "      <th>0</th>\n",
       "      <td>1</td>\n",
       "      <td>tcp</td>\n",
       "      <td>192.168.100.147</td>\n",
       "      <td>49960</td>\n",
       "      <td>192.168.100.7</td>\n",
       "      <td>80</td>\n",
       "      <td>9</td>\n",
       "      <td>0.068909</td>\n",
       "      <td>75</td>\n",
       "      <td>0.000000</td>\n",
       "      <td>1</td>\n",
       "      <td>0.068909</td>\n",
       "      <td>96</td>\n",
       "      <td>14.511893</td>\n",
       "      <td>0.566862</td>\n",
       "      <td>0.137818</td>\n",
       "      <td>1</td>\n",
       "      <td>DoS</td>\n",
       "      <td>HTTP</td>\n",
       "    </tr>\n",
       "    <tr>\n",
       "      <th>1</th>\n",
       "      <td>2</td>\n",
       "      <td>arp</td>\n",
       "      <td>192.168.100.7</td>\n",
       "      <td>-1</td>\n",
       "      <td>192.168.100.147</td>\n",
       "      <td>-1</td>\n",
       "      <td>10</td>\n",
       "      <td>0.000000</td>\n",
       "      <td>2</td>\n",
       "      <td>0.000131</td>\n",
       "      <td>2</td>\n",
       "      <td>0.000131</td>\n",
       "      <td>1</td>\n",
       "      <td>0.000000</td>\n",
       "      <td>0.000000</td>\n",
       "      <td>0.000131</td>\n",
       "      <td>1</td>\n",
       "      <td>DoS</td>\n",
       "      <td>HTTP</td>\n",
       "    </tr>\n",
       "    <tr>\n",
       "      <th>2</th>\n",
       "      <td>3</td>\n",
       "      <td>tcp</td>\n",
       "      <td>192.168.100.147</td>\n",
       "      <td>49962</td>\n",
       "      <td>192.168.100.7</td>\n",
       "      <td>80</td>\n",
       "      <td>11</td>\n",
       "      <td>0.064494</td>\n",
       "      <td>75</td>\n",
       "      <td>0.000000</td>\n",
       "      <td>1</td>\n",
       "      <td>0.064494</td>\n",
       "      <td>96</td>\n",
       "      <td>15.505319</td>\n",
       "      <td>0.567549</td>\n",
       "      <td>0.128988</td>\n",
       "      <td>1</td>\n",
       "      <td>DoS</td>\n",
       "      <td>HTTP</td>\n",
       "    </tr>\n",
       "    <tr>\n",
       "      <th>3</th>\n",
       "      <td>4</td>\n",
       "      <td>tcp</td>\n",
       "      <td>192.168.100.147</td>\n",
       "      <td>49964</td>\n",
       "      <td>192.168.100.7</td>\n",
       "      <td>80</td>\n",
       "      <td>12</td>\n",
       "      <td>0.064189</td>\n",
       "      <td>75</td>\n",
       "      <td>0.000000</td>\n",
       "      <td>1</td>\n",
       "      <td>0.064189</td>\n",
       "      <td>96</td>\n",
       "      <td>15.578993</td>\n",
       "      <td>0.567570</td>\n",
       "      <td>0.128378</td>\n",
       "      <td>1</td>\n",
       "      <td>DoS</td>\n",
       "      <td>HTTP</td>\n",
       "    </tr>\n",
       "    <tr>\n",
       "      <th>4</th>\n",
       "      <td>5</td>\n",
       "      <td>tcp</td>\n",
       "      <td>192.168.100.147</td>\n",
       "      <td>49966</td>\n",
       "      <td>192.168.100.7</td>\n",
       "      <td>80</td>\n",
       "      <td>13</td>\n",
       "      <td>0.063887</td>\n",
       "      <td>75</td>\n",
       "      <td>0.000000</td>\n",
       "      <td>1</td>\n",
       "      <td>0.063887</td>\n",
       "      <td>96</td>\n",
       "      <td>15.652637</td>\n",
       "      <td>0.567630</td>\n",
       "      <td>0.127774</td>\n",
       "      <td>1</td>\n",
       "      <td>DoS</td>\n",
       "      <td>HTTP</td>\n",
       "    </tr>\n",
       "    <tr>\n",
       "      <th>...</th>\n",
       "      <td>...</td>\n",
       "      <td>...</td>\n",
       "      <td>...</td>\n",
       "      <td>...</td>\n",
       "      <td>...</td>\n",
       "      <td>...</td>\n",
       "      <td>...</td>\n",
       "      <td>...</td>\n",
       "      <td>...</td>\n",
       "      <td>...</td>\n",
       "      <td>...</td>\n",
       "      <td>...</td>\n",
       "      <td>...</td>\n",
       "      <td>...</td>\n",
       "      <td>...</td>\n",
       "      <td>...</td>\n",
       "      <td>...</td>\n",
       "      <td>...</td>\n",
       "      <td>...</td>\n",
       "    </tr>\n",
       "    <tr>\n",
       "      <th>3668517</th>\n",
       "      <td>3668518</td>\n",
       "      <td>tcp</td>\n",
       "      <td>192.168.100.150</td>\n",
       "      <td>35064</td>\n",
       "      <td>192.168.100.3</td>\n",
       "      <td>22</td>\n",
       "      <td>81</td>\n",
       "      <td>0.000000</td>\n",
       "      <td>19</td>\n",
       "      <td>0.013165</td>\n",
       "      <td>1</td>\n",
       "      <td>0.013165</td>\n",
       "      <td>19</td>\n",
       "      <td>151.917969</td>\n",
       "      <td>151.917969</td>\n",
       "      <td>0.013165</td>\n",
       "      <td>1</td>\n",
       "      <td>Theft</td>\n",
       "      <td>Keylogging</td>\n",
       "    </tr>\n",
       "    <tr>\n",
       "      <th>3668518</th>\n",
       "      <td>3668519</td>\n",
       "      <td>tcp</td>\n",
       "      <td>192.168.100.150</td>\n",
       "      <td>35066</td>\n",
       "      <td>192.168.100.3</td>\n",
       "      <td>22</td>\n",
       "      <td>82</td>\n",
       "      <td>0.000000</td>\n",
       "      <td>19</td>\n",
       "      <td>0.000574</td>\n",
       "      <td>1</td>\n",
       "      <td>0.000574</td>\n",
       "      <td>19</td>\n",
       "      <td>3484.320557</td>\n",
       "      <td>3484.320557</td>\n",
       "      <td>0.000574</td>\n",
       "      <td>1</td>\n",
       "      <td>Theft</td>\n",
       "      <td>Keylogging</td>\n",
       "    </tr>\n",
       "    <tr>\n",
       "      <th>3668519</th>\n",
       "      <td>3668520</td>\n",
       "      <td>tcp</td>\n",
       "      <td>192.168.100.150</td>\n",
       "      <td>35070</td>\n",
       "      <td>192.168.100.3</td>\n",
       "      <td>22</td>\n",
       "      <td>84</td>\n",
       "      <td>0.000000</td>\n",
       "      <td>19</td>\n",
       "      <td>2.874302</td>\n",
       "      <td>6</td>\n",
       "      <td>2.874302</td>\n",
       "      <td>19</td>\n",
       "      <td>5.566569</td>\n",
       "      <td>4.522837</td>\n",
       "      <td>2.874302</td>\n",
       "      <td>1</td>\n",
       "      <td>Theft</td>\n",
       "      <td>Keylogging</td>\n",
       "    </tr>\n",
       "    <tr>\n",
       "      <th>3668520</th>\n",
       "      <td>3668521</td>\n",
       "      <td>tcp</td>\n",
       "      <td>192.168.100.3</td>\n",
       "      <td>43001</td>\n",
       "      <td>192.168.100.150</td>\n",
       "      <td>4433</td>\n",
       "      <td>85</td>\n",
       "      <td>0.000000</td>\n",
       "      <td>3</td>\n",
       "      <td>0.000003</td>\n",
       "      <td>1</td>\n",
       "      <td>0.000003</td>\n",
       "      <td>1</td>\n",
       "      <td>0.000000</td>\n",
       "      <td>0.000000</td>\n",
       "      <td>0.000003</td>\n",
       "      <td>1</td>\n",
       "      <td>Theft</td>\n",
       "      <td>Keylogging</td>\n",
       "    </tr>\n",
       "    <tr>\n",
       "      <th>3668521</th>\n",
       "      <td>3668522</td>\n",
       "      <td>arp</td>\n",
       "      <td>192.168.100.3</td>\n",
       "      <td>-1</td>\n",
       "      <td>192.168.100.149</td>\n",
       "      <td>-1</td>\n",
       "      <td>10</td>\n",
       "      <td>0.000056</td>\n",
       "      <td>3</td>\n",
       "      <td>0.000080</td>\n",
       "      <td>2</td>\n",
       "      <td>0.000145</td>\n",
       "      <td>2</td>\n",
       "      <td>0.008255</td>\n",
       "      <td>0.008255</td>\n",
       "      <td>0.000272</td>\n",
       "      <td>1</td>\n",
       "      <td>Theft</td>\n",
       "      <td>Keylogging</td>\n",
       "    </tr>\n",
       "  </tbody>\n",
       "</table>\n",
       "<p>3668522 rows × 19 columns</p>\n",
       "</div>"
      ],
      "text/plain": [
       "         pkSeqID proto            saddr  sport            daddr dport  seq  \\\n",
       "0              1   tcp  192.168.100.147  49960    192.168.100.7    80    9   \n",
       "1              2   arp    192.168.100.7     -1  192.168.100.147    -1   10   \n",
       "2              3   tcp  192.168.100.147  49962    192.168.100.7    80   11   \n",
       "3              4   tcp  192.168.100.147  49964    192.168.100.7    80   12   \n",
       "4              5   tcp  192.168.100.147  49966    192.168.100.7    80   13   \n",
       "...          ...   ...              ...    ...              ...   ...  ...   \n",
       "3668517  3668518   tcp  192.168.100.150  35064    192.168.100.3    22   81   \n",
       "3668518  3668519   tcp  192.168.100.150  35066    192.168.100.3    22   82   \n",
       "3668519  3668520   tcp  192.168.100.150  35070    192.168.100.3    22   84   \n",
       "3668520  3668521   tcp    192.168.100.3  43001  192.168.100.150  4433   85   \n",
       "3668521  3668522   arp    192.168.100.3     -1  192.168.100.149    -1   10   \n",
       "\n",
       "           stddev  N_IN_Conn_P_SrcIP       min  state_number      mean  \\\n",
       "0        0.068909                 75  0.000000             1  0.068909   \n",
       "1        0.000000                  2  0.000131             2  0.000131   \n",
       "2        0.064494                 75  0.000000             1  0.064494   \n",
       "3        0.064189                 75  0.000000             1  0.064189   \n",
       "4        0.063887                 75  0.000000             1  0.063887   \n",
       "...           ...                ...       ...           ...       ...   \n",
       "3668517  0.000000                 19  0.013165             1  0.013165   \n",
       "3668518  0.000000                 19  0.000574             1  0.000574   \n",
       "3668519  0.000000                 19  2.874302             6  2.874302   \n",
       "3668520  0.000000                  3  0.000003             1  0.000003   \n",
       "3668521  0.000056                  3  0.000080             2  0.000145   \n",
       "\n",
       "         N_IN_Conn_P_DstIP        drate        srate       max  attack  \\\n",
       "0                       96    14.511893     0.566862  0.137818       1   \n",
       "1                        1     0.000000     0.000000  0.000131       1   \n",
       "2                       96    15.505319     0.567549  0.128988       1   \n",
       "3                       96    15.578993     0.567570  0.128378       1   \n",
       "4                       96    15.652637     0.567630  0.127774       1   \n",
       "...                    ...          ...          ...       ...     ...   \n",
       "3668517                 19   151.917969   151.917969  0.013165       1   \n",
       "3668518                 19  3484.320557  3484.320557  0.000574       1   \n",
       "3668519                 19     5.566569     4.522837  2.874302       1   \n",
       "3668520                  1     0.000000     0.000000  0.000003       1   \n",
       "3668521                  2     0.008255     0.008255  0.000272       1   \n",
       "\n",
       "        category subcategory  \n",
       "0            DoS        HTTP  \n",
       "1            DoS        HTTP  \n",
       "2            DoS        HTTP  \n",
       "3            DoS        HTTP  \n",
       "4            DoS        HTTP  \n",
       "...          ...         ...  \n",
       "3668517    Theft  Keylogging  \n",
       "3668518    Theft  Keylogging  \n",
       "3668519    Theft  Keylogging  \n",
       "3668520    Theft  Keylogging  \n",
       "3668521    Theft  Keylogging  \n",
       "\n",
       "[3668522 rows x 19 columns]"
      ]
     },
     "execution_count": 4,
     "metadata": {},
     "output_type": "execute_result"
    }
   ],
   "source": [
    "data = pd.read_csv('./Bot_Iot_Data_File/Entire_Dataset/UNSW_2018_IoT_Botnet_Final_10_Best.csv', sep = ';', index_col=0)\n",
    "data"
   ]
  },
  {
   "cell_type": "code",
   "execution_count": 5,
   "id": "16ced57d",
   "metadata": {
    "scrolled": true
   },
   "outputs": [
    {
     "data": {
      "text/plain": [
       "array(['DoS', 'DDoS', 'Normal', 'Reconnaissance', 'Theft'], dtype=object)"
      ]
     },
     "execution_count": 5,
     "metadata": {},
     "output_type": "execute_result"
    }
   ],
   "source": [
    "data.category.unique()"
   ]
  },
  {
   "cell_type": "markdown",
   "id": "d4e714fa",
   "metadata": {},
   "source": [
    "## Feature와 Target 설정\n",
    "Feature는 joint함수를 활용하여 설정"
   ]
  },
  {
   "cell_type": "code",
   "execution_count": 6,
   "id": "7fd1a30a",
   "metadata": {},
   "outputs": [],
   "source": [
    "best_cols = ['seq', 'stddev', 'N_IN_Conn_P_SrcIP', 'min', 'state_number', 'mean', 'N_IN_Conn_P_DstIP', 'drate', 'srate', 'max']\n",
    "target_col = ['category']"
   ]
  },
  {
   "cell_type": "code",
   "execution_count": 7,
   "id": "e2eb6a51",
   "metadata": {
    "scrolled": false
   },
   "outputs": [],
   "source": [
    "data = data[best_cols + target_col]"
   ]
  },
  {
   "cell_type": "code",
   "execution_count": 8,
   "id": "313572ea",
   "metadata": {
    "scrolled": true
   },
   "outputs": [
    {
     "data": {
      "text/html": [
       "<div>\n",
       "<style scoped>\n",
       "    .dataframe tbody tr th:only-of-type {\n",
       "        vertical-align: middle;\n",
       "    }\n",
       "\n",
       "    .dataframe tbody tr th {\n",
       "        vertical-align: top;\n",
       "    }\n",
       "\n",
       "    .dataframe thead th {\n",
       "        text-align: right;\n",
       "    }\n",
       "</style>\n",
       "<table border=\"1\" class=\"dataframe\">\n",
       "  <thead>\n",
       "    <tr style=\"text-align: right;\">\n",
       "      <th></th>\n",
       "      <th>seq</th>\n",
       "      <th>stddev</th>\n",
       "      <th>N_IN_Conn_P_SrcIP</th>\n",
       "      <th>min</th>\n",
       "      <th>state_number</th>\n",
       "      <th>mean</th>\n",
       "      <th>N_IN_Conn_P_DstIP</th>\n",
       "      <th>drate</th>\n",
       "      <th>srate</th>\n",
       "      <th>max</th>\n",
       "      <th>category</th>\n",
       "    </tr>\n",
       "  </thead>\n",
       "  <tbody>\n",
       "    <tr>\n",
       "      <th>0</th>\n",
       "      <td>9</td>\n",
       "      <td>0.068909</td>\n",
       "      <td>75</td>\n",
       "      <td>0.000000</td>\n",
       "      <td>1</td>\n",
       "      <td>0.068909</td>\n",
       "      <td>96</td>\n",
       "      <td>14.511893</td>\n",
       "      <td>0.566862</td>\n",
       "      <td>0.137818</td>\n",
       "      <td>DoS</td>\n",
       "    </tr>\n",
       "    <tr>\n",
       "      <th>1</th>\n",
       "      <td>10</td>\n",
       "      <td>0.000000</td>\n",
       "      <td>2</td>\n",
       "      <td>0.000131</td>\n",
       "      <td>2</td>\n",
       "      <td>0.000131</td>\n",
       "      <td>1</td>\n",
       "      <td>0.000000</td>\n",
       "      <td>0.000000</td>\n",
       "      <td>0.000131</td>\n",
       "      <td>DoS</td>\n",
       "    </tr>\n",
       "    <tr>\n",
       "      <th>2</th>\n",
       "      <td>11</td>\n",
       "      <td>0.064494</td>\n",
       "      <td>75</td>\n",
       "      <td>0.000000</td>\n",
       "      <td>1</td>\n",
       "      <td>0.064494</td>\n",
       "      <td>96</td>\n",
       "      <td>15.505319</td>\n",
       "      <td>0.567549</td>\n",
       "      <td>0.128988</td>\n",
       "      <td>DoS</td>\n",
       "    </tr>\n",
       "    <tr>\n",
       "      <th>3</th>\n",
       "      <td>12</td>\n",
       "      <td>0.064189</td>\n",
       "      <td>75</td>\n",
       "      <td>0.000000</td>\n",
       "      <td>1</td>\n",
       "      <td>0.064189</td>\n",
       "      <td>96</td>\n",
       "      <td>15.578993</td>\n",
       "      <td>0.567570</td>\n",
       "      <td>0.128378</td>\n",
       "      <td>DoS</td>\n",
       "    </tr>\n",
       "    <tr>\n",
       "      <th>4</th>\n",
       "      <td>13</td>\n",
       "      <td>0.063887</td>\n",
       "      <td>75</td>\n",
       "      <td>0.000000</td>\n",
       "      <td>1</td>\n",
       "      <td>0.063887</td>\n",
       "      <td>96</td>\n",
       "      <td>15.652637</td>\n",
       "      <td>0.567630</td>\n",
       "      <td>0.127774</td>\n",
       "      <td>DoS</td>\n",
       "    </tr>\n",
       "  </tbody>\n",
       "</table>\n",
       "</div>"
      ],
      "text/plain": [
       "   seq    stddev  N_IN_Conn_P_SrcIP       min  state_number      mean  \\\n",
       "0    9  0.068909                 75  0.000000             1  0.068909   \n",
       "1   10  0.000000                  2  0.000131             2  0.000131   \n",
       "2   11  0.064494                 75  0.000000             1  0.064494   \n",
       "3   12  0.064189                 75  0.000000             1  0.064189   \n",
       "4   13  0.063887                 75  0.000000             1  0.063887   \n",
       "\n",
       "   N_IN_Conn_P_DstIP      drate     srate       max category  \n",
       "0                 96  14.511893  0.566862  0.137818      DoS  \n",
       "1                  1   0.000000  0.000000  0.000131      DoS  \n",
       "2                 96  15.505319  0.567549  0.128988      DoS  \n",
       "3                 96  15.578993  0.567570  0.128378      DoS  \n",
       "4                 96  15.652637  0.567630  0.127774      DoS  "
      ]
     },
     "execution_count": 8,
     "metadata": {},
     "output_type": "execute_result"
    }
   ],
   "source": [
    "data.head(5)"
   ]
  },
  {
   "cell_type": "code",
   "execution_count": 9,
   "id": "3dbb7e85",
   "metadata": {},
   "outputs": [
    {
     "data": {
      "text/plain": [
       "array(['DoS', 'DoS', 'DoS', ..., 'Theft', 'Theft', 'Theft'], dtype=object)"
      ]
     },
     "execution_count": 9,
     "metadata": {},
     "output_type": "execute_result"
    }
   ],
   "source": [
    "X_orig = data.drop(columns = target_col)\n",
    "y = data[target_col]\n",
    "y = np.ravel(y)\n",
    "y"
   ]
  },
  {
   "cell_type": "markdown",
   "id": "4a8a0acb",
   "metadata": {},
   "source": [
    "## 데이터 전처리 및 정규화"
   ]
  },
  {
   "cell_type": "markdown",
   "id": "aadb79c5",
   "metadata": {},
   "source": [
    "### Target이 범주형 데이터이므로 LabelEncoder사용"
   ]
  },
  {
   "cell_type": "code",
   "execution_count": 10,
   "id": "54247310",
   "metadata": {},
   "outputs": [],
   "source": [
    "le = LabelEncoder()\n",
    "y = le.fit_transform(y)"
   ]
  },
  {
   "cell_type": "markdown",
   "id": "89717129",
   "metadata": {},
   "source": [
    "### Feature들은 수치형 데이터이므로 StandardScaler 사용"
   ]
  },
  {
   "cell_type": "code",
   "execution_count": 11,
   "id": "b0b0a4fc",
   "metadata": {},
   "outputs": [],
   "source": [
    "from sklearn.preprocessing import StandardScaler\n",
    "scaler = StandardScaler()\n",
    "scaler.fit(X_orig)\n",
    "X_scaled = scaler.transform(X_orig)\n",
    "X = pd.DataFrame(X_scaled, columns=best_cols)"
   ]
  },
  {
   "cell_type": "markdown",
   "id": "a42d2844",
   "metadata": {},
   "source": [
    "### Train & Test 분리"
   ]
  },
  {
   "cell_type": "code",
   "execution_count": 12,
   "id": "37099148",
   "metadata": {},
   "outputs": [],
   "source": [
    "X_train, X_test, y_train, y_test = train_test_split(X, y, test_size=0.3, random_state=42)"
   ]
  },
  {
   "cell_type": "markdown",
   "id": "0b076071",
   "metadata": {},
   "source": [
    "### Random Forest 학습"
   ]
  },
  {
   "cell_type": "code",
   "execution_count": 13,
   "id": "b9575eb6",
   "metadata": {
    "scrolled": false
   },
   "outputs": [
    {
     "name": "stdout",
     "output_type": "stream",
     "text": [
      "0.9737887269809742\n"
     ]
    }
   ],
   "source": [
    "rf = RandomForestClassifier(n_estimators=20, max_depth=5,random_state=42)\n",
    "rf.fit(X_train,y_train)\n",
    "predict1 = rf.predict(X_test)\n",
    "print(accuracy_score(y_test,predict1))"
   ]
  },
  {
   "cell_type": "code",
   "execution_count": 14,
   "id": "072587b2",
   "metadata": {},
   "outputs": [
    {
     "name": "stdout",
     "output_type": "stream",
     "text": [
      "[[566246  11722      0      6      0]\n",
      " [ 16101 479143      0      8      0]\n",
      " [     2     27      0    112      0]\n",
      " [   809     36      0  26321      0]\n",
      " [     0      1      0     23      0]]\n"
     ]
    },
    {
     "data": {
      "image/png": "[encoded data removed]",
      "text/plain": [
       "<Figure size 1152x504 with 2 Axes>"
      ]
     },
     "metadata": {
      "needs_background": "light"
     },
     "output_type": "display_data"
    },
    {
     "data": {
      "text/plain": [
       "DDoS              1926624\n",
       "DoS               1650260\n",
       "Reconnaissance      91082\n",
       "Normal                477\n",
       "Theft                  79\n",
       "Name: category, dtype: int64"
      ]
     },
     "execution_count": 14,
     "metadata": {},
     "output_type": "execute_result"
    }
   ],
   "source": [
    "# Get and reshape confusion matrix data\n",
    "matrix = confusion_matrix(y_test, predict1)\n",
    "print(matrix)\n",
    "matrix = matrix.astype('float') / matrix.sum(axis=1)[:, np.newaxis]\n",
    "# Build the plot\n",
    "plt.figure(figsize=(16,7))\n",
    "sns.set(font_scale=1.4)\n",
    "sns.heatmap(matrix, annot=True, annot_kws={'size':10},\n",
    "            cmap=plt.cm.Greens, linewidths=0.2)\n",
    "\n",
    "# Add labels to the plot\n",
    "class_names = ['DDos', 'Dos', 'Normal', 'Reconnaissance', \n",
    "               'Theft']\n",
    "tick_marks = np.arange(len(class_names))\n",
    "tick_marks2 = tick_marks + 0.5\n",
    "plt.xticks(tick_marks, class_names, rotation=25)\n",
    "plt.yticks(tick_marks2, class_names, rotation=0)\n",
    "plt.xlabel('Predicted label')\n",
    "plt.ylabel('True label')\n",
    "plt.title('Confusion Matrix for Random Forest Model')\n",
    "plt.show()\n",
    "data.category.value_counts()"
   ]
  },
  {
   "cell_type": "code",
   "execution_count": 15,
   "id": "c8041534",
   "metadata": {},
   "outputs": [
    {
     "data": {
      "text/plain": [
       "{'zero': 583158, 'one': 490929, 'two': 0, 'three': 26470, 'four': 0}"
      ]
     },
     "execution_count": 15,
     "metadata": {},
     "output_type": "execute_result"
    }
   ],
   "source": [
    "dic = {'zero':0, 'one':0, 'two':0, 'three':0, 'four':0}\n",
    "for i in predict1:\n",
    "    if i == 0:\n",
    "        dic['zero'] += 1\n",
    "    elif i == 1:\n",
    "        dic['one'] += 1\n",
    "    elif i == 2:\n",
    "        dic['two'] += 1\n",
    "    elif i == 3:\n",
    "        dic['three'] += 1\n",
    "    elif i == 4:\n",
    "        dic['four'] += 1\n",
    "dic"
   ]
  },
  {
   "cell_type": "markdown",
   "id": "911ad531",
   "metadata": {},
   "source": [
    "## Feature의 중요도 "
   ]
  },
  {
   "cell_type": "code",
   "execution_count": 16,
   "id": "ce7b16aa",
   "metadata": {
    "scrolled": true
   },
   "outputs": [
    {
     "data": {
      "text/plain": [
       "array([0.02119182, 0.08454439, 0.04199309, 0.06788899, 0.15510891,\n",
       "       0.06357739, 0.24300814, 0.00379988, 0.2473538 , 0.07153358])"
      ]
     },
     "execution_count": 16,
     "metadata": {},
     "output_type": "execute_result"
    }
   ],
   "source": [
    "rf.feature_importances_"
   ]
  },
  {
   "cell_type": "code",
   "execution_count": 17,
   "id": "eff5909b",
   "metadata": {
    "scrolled": true
   },
   "outputs": [
    {
     "data": {
      "image/png": "[encoded data removed]",
      "text/plain": [
       "<Figure size 576x432 with 1 Axes>"
      ]
     },
     "metadata": {
      "needs_background": "light"
     },
     "output_type": "display_data"
    }
   ],
   "source": [
    "import matplotlib.pyplot as plt\n",
    "import seaborn as sns\n",
    "%matplotlib inline\n",
    "\n",
    "ftr_importances_values = rf.feature_importances_\n",
    "ftr_importances = pd.Series(ftr_importances_values, index = X_train.columns)\n",
    "ftr_top20 = ftr_importances.sort_values(ascending=False)[:20]\n",
    "\n",
    "plt.figure(figsize=(8,6))\n",
    "plt.title('Top 20 Feature Importances')\n",
    "sns.barplot(x=ftr_top20, y=ftr_top20.index)\n",
    "plt.show()"
   ]
  },
  {
   "cell_type": "markdown",
   "id": "15163aca",
   "metadata": {},
   "source": [
    "### GridSearchCV를 통한 최적의 파라미터 계산"
   ]
  },
  {
   "cell_type": "code",
   "execution_count": null,
   "id": "13314ddf",
   "metadata": {
    "scrolled": false
   },
   "outputs": [],
   "source": [
    "params = { 'n_estimators' : list(range(0, 50, 10)),\n",
    "           'max_depth' : list(range(0, 20, 5)),\n",
    "            }\n",
    "\n",
    "# RandomForestClassifier 객체 생성 후 GridSearchCV 수행\n",
    "rf_clf = RandomForestClassifier(n_jobs = -1)\n",
    "grid_cv = GridSearchCV(rf_clf, param_grid = params, cv = 3, n_jobs = -1)\n",
    "grid_cv.fit(X_train, y_train)\n",
    "\n",
    "print('최적 하이퍼 파라미터: ', grid_cv.best_params_)\n",
    "print('최고 예측 정확도: {:.4f}'.format(grid_cv.best_score_))"
   ]
  },
  {
   "cell_type": "markdown",
   "id": "044a24d7",
   "metadata": {},
   "source": [
    "### RandomizedSearchCV를 통한 최적의 파라미터 계산"
   ]
  },
  {
   "cell_type": "code",
   "execution_count": null,
   "id": "0ff2228d",
   "metadata": {},
   "outputs": [],
   "source": [
    "n_estimators = [int(x) for x in np.linspace(start = 10, stop = 80, num = 10)]\n",
    "max_features = ['sqrt', 'log2']\n",
    "max_depth = [2,4, 6, 8]\n",
    "min_samples_split = [2, 5]\n",
    "min_samples_leaf = [1, 2]\n",
    "bootstrap = [True, False]"
   ]
  },
  {
   "cell_type": "code",
   "execution_count": null,
   "id": "758de75f",
   "metadata": {},
   "outputs": [],
   "source": [
    "param_grid = {'n_estimators': n_estimators,\n",
    "               'max_features': max_features,\n",
    "               'max_depth': max_depth,\n",
    "               'min_samples_split': min_samples_split,\n",
    "               'min_samples_leaf': min_samples_leaf,\n",
    "               'bootstrap': bootstrap}"
   ]
  },
  {
   "cell_type": "code",
   "execution_count": null,
   "id": "5bf0a428",
   "metadata": {},
   "outputs": [],
   "source": [
    "rf_Model = RandomForestClassifier()"
   ]
  },
  {
   "cell_type": "code",
   "execution_count": null,
   "id": "428e6f9a",
   "metadata": {},
   "outputs": [],
   "source": [
    "from sklearn.model_selection import RandomizedSearchCV\n",
    "rf_RandomGrid = RandomizedSearchCV(estimator = rf_Model, param_distributions = param_grid, cv = 10, verbose=2, n_jobs = 4)"
   ]
  },
  {
   "cell_type": "code",
   "execution_count": null,
   "id": "b0a582ca",
   "metadata": {},
   "outputs": [],
   "source": [
    "rf_RandomGrid.fit(X_train, y_train)"
   ]
  },
  {
   "cell_type": "code",
   "execution_count": null,
   "id": "24adb65c",
   "metadata": {},
   "outputs": [],
   "source": [
    "param_score = pd.DataFrame(rf_RandomGrid.cv_results_).sort_values('rank_test_score')\n",
    "param_score[param_score.rank_test_score == 1]"
   ]
  }
 ],
 "metadata": {
  "kernelspec": {
   "display_name": "Python 3 (ipykernel)",
   "language": "python",
   "name": "python3"
  },
  "language_info": {
   "codemirror_mode": {
    "name": "ipython",
    "version": 3
   },
   "file_extension": ".py",
   "mimetype": "text/x-python",
   "name": "python",
   "nbconvert_exporter": "python",
   "pygments_lexer": "ipython3",
   "version": "3.9.7"
  }
 },
 "nbformat": 4,
 "nbformat_minor": 5
}
