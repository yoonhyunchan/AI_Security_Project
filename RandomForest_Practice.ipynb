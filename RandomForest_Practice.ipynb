{
 "cells": [
  {
   "cell_type": "code",
   "execution_count": 2,
   "id": "ec038d2c",
   "metadata": {},
   "outputs": [],
   "source": [
    "# Importing necessary libraries\n",
    "import numpy as np\n",
    "import pandas as pd\n",
    "import matplotlib.pyplot as plt\n",
    "import seaborn as sns\n",
    "\n",
    "from sklearn.preprocessing import LabelEncoder, StandardScaler\n",
    "from sklearn.model_selection import train_test_split\n",
    "from sklearn.ensemble import RandomForestClassifier\n",
    "from sklearn.naive_bayes import GaussianNB \n",
    "from sklearn.neighbors import KNeighborsClassifier \n",
    "from sklearn.tree import DecisionTreeClassifier \n",
    "from sklearn.metrics import confusion_matrix, classification_report\n",
    "\n",
    "%matplotlib inline"
   ]
  },
  {
   "cell_type": "code",
   "execution_count": 3,
   "id": "f6d75116",
   "metadata": {},
   "outputs": [],
   "source": [
    "import warnings\n",
    "warnings.filterwarnings('ignore')"
   ]
  },
  {
   "cell_type": "code",
   "execution_count": 4,
   "id": "b75caad7",
   "metadata": {},
   "outputs": [],
   "source": [
    "dataPath = \"/Users/yunhyeonchan/AI_Security_Project/Bot_Iot_Data_File/Entire_Dataset/\""
   ]
  },
  {
   "cell_type": "code",
   "execution_count": 5,
   "id": "cfefe21b",
   "metadata": {},
   "outputs": [
    {
     "name": "stdout",
     "output_type": "stream",
     "text": [
      "\u001b[31mUNSW_2018_IoT_Botnet_Dataset_1.csv\u001b[m\u001b[m\r\n",
      "\u001b[31mUNSW_2018_IoT_Botnet_Dataset_2.csv\u001b[m\u001b[m\r\n",
      "\u001b[31mUNSW_2018_IoT_Botnet_Dataset_3.csv\u001b[m\u001b[m\r\n",
      "\u001b[31mUNSW_2018_IoT_Botnet_Dataset_Feature_Names.csv\u001b[m\u001b[m\r\n",
      "UNSW_2018_IoT_Botnet_Final_10_Best.csv\r\n",
      "UNSW_2018_IoT_Botnet_Final_10_Best.numbers\r\n"
     ]
    }
   ],
   "source": [
    "! ls /Users/yunhyeonchan/AI_Security_Project/Bot_Iot_Data_File/Entire_Dataset/"
   ]
  },
  {
   "cell_type": "code",
   "execution_count": 6,
   "id": "afd6f045",
   "metadata": {
    "scrolled": false
   },
   "outputs": [],
   "source": [
    "data = pd.read_csv(dataPath + \"UNSW_2018_IoT_Botnet_Final_10_Best.csv\", sep = ';')\n",
    "data = data.drop(columns = ['Unnamed: 0'])"
   ]
  },
  {
   "cell_type": "code",
   "execution_count": 17,
   "id": "1025bd85",
   "metadata": {
    "scrolled": true
   },
   "outputs": [
    {
     "data": {
      "text/html": [
       "<div>\n",
       "<style scoped>\n",
       "    .dataframe tbody tr th:only-of-type {\n",
       "        vertical-align: middle;\n",
       "    }\n",
       "\n",
       "    .dataframe tbody tr th {\n",
       "        vertical-align: top;\n",
       "    }\n",
       "\n",
       "    .dataframe thead th {\n",
       "        text-align: right;\n",
       "    }\n",
       "</style>\n",
       "<table border=\"1\" class=\"dataframe\">\n",
       "  <thead>\n",
       "    <tr style=\"text-align: right;\">\n",
       "      <th></th>\n",
       "      <th>pkSeqID</th>\n",
       "      <th>proto</th>\n",
       "      <th>saddr</th>\n",
       "      <th>sport</th>\n",
       "      <th>daddr</th>\n",
       "      <th>dport</th>\n",
       "      <th>seq</th>\n",
       "      <th>stddev</th>\n",
       "      <th>N_IN_Conn_P_SrcIP</th>\n",
       "      <th>min</th>\n",
       "      <th>state_number</th>\n",
       "      <th>mean</th>\n",
       "      <th>N_IN_Conn_P_DstIP</th>\n",
       "      <th>drate</th>\n",
       "      <th>srate</th>\n",
       "      <th>max</th>\n",
       "      <th>attack</th>\n",
       "      <th>category</th>\n",
       "      <th>subcategory</th>\n",
       "    </tr>\n",
       "  </thead>\n",
       "  <tbody>\n",
       "    <tr>\n",
       "      <th>0</th>\n",
       "      <td>1</td>\n",
       "      <td>tcp</td>\n",
       "      <td>192.168.100.147</td>\n",
       "      <td>49960</td>\n",
       "      <td>192.168.100.7</td>\n",
       "      <td>80</td>\n",
       "      <td>9</td>\n",
       "      <td>0.068909</td>\n",
       "      <td>75</td>\n",
       "      <td>0.000000</td>\n",
       "      <td>1</td>\n",
       "      <td>0.068909</td>\n",
       "      <td>96</td>\n",
       "      <td>14.511893</td>\n",
       "      <td>0.566862</td>\n",
       "      <td>0.137818</td>\n",
       "      <td>1</td>\n",
       "      <td>DoS</td>\n",
       "      <td>HTTP</td>\n",
       "    </tr>\n",
       "    <tr>\n",
       "      <th>1</th>\n",
       "      <td>2</td>\n",
       "      <td>arp</td>\n",
       "      <td>192.168.100.7</td>\n",
       "      <td>-1</td>\n",
       "      <td>192.168.100.147</td>\n",
       "      <td>-1</td>\n",
       "      <td>10</td>\n",
       "      <td>0.000000</td>\n",
       "      <td>2</td>\n",
       "      <td>0.000131</td>\n",
       "      <td>2</td>\n",
       "      <td>0.000131</td>\n",
       "      <td>1</td>\n",
       "      <td>0.000000</td>\n",
       "      <td>0.000000</td>\n",
       "      <td>0.000131</td>\n",
       "      <td>1</td>\n",
       "      <td>DoS</td>\n",
       "      <td>HTTP</td>\n",
       "    </tr>\n",
       "    <tr>\n",
       "      <th>2</th>\n",
       "      <td>3</td>\n",
       "      <td>tcp</td>\n",
       "      <td>192.168.100.147</td>\n",
       "      <td>49962</td>\n",
       "      <td>192.168.100.7</td>\n",
       "      <td>80</td>\n",
       "      <td>11</td>\n",
       "      <td>0.064494</td>\n",
       "      <td>75</td>\n",
       "      <td>0.000000</td>\n",
       "      <td>1</td>\n",
       "      <td>0.064494</td>\n",
       "      <td>96</td>\n",
       "      <td>15.505319</td>\n",
       "      <td>0.567549</td>\n",
       "      <td>0.128988</td>\n",
       "      <td>1</td>\n",
       "      <td>DoS</td>\n",
       "      <td>HTTP</td>\n",
       "    </tr>\n",
       "    <tr>\n",
       "      <th>3</th>\n",
       "      <td>4</td>\n",
       "      <td>tcp</td>\n",
       "      <td>192.168.100.147</td>\n",
       "      <td>49964</td>\n",
       "      <td>192.168.100.7</td>\n",
       "      <td>80</td>\n",
       "      <td>12</td>\n",
       "      <td>0.064189</td>\n",
       "      <td>75</td>\n",
       "      <td>0.000000</td>\n",
       "      <td>1</td>\n",
       "      <td>0.064189</td>\n",
       "      <td>96</td>\n",
       "      <td>15.578993</td>\n",
       "      <td>0.567570</td>\n",
       "      <td>0.128378</td>\n",
       "      <td>1</td>\n",
       "      <td>DoS</td>\n",
       "      <td>HTTP</td>\n",
       "    </tr>\n",
       "    <tr>\n",
       "      <th>4</th>\n",
       "      <td>5</td>\n",
       "      <td>tcp</td>\n",
       "      <td>192.168.100.147</td>\n",
       "      <td>49966</td>\n",
       "      <td>192.168.100.7</td>\n",
       "      <td>80</td>\n",
       "      <td>13</td>\n",
       "      <td>0.063887</td>\n",
       "      <td>75</td>\n",
       "      <td>0.000000</td>\n",
       "      <td>1</td>\n",
       "      <td>0.063887</td>\n",
       "      <td>96</td>\n",
       "      <td>15.652637</td>\n",
       "      <td>0.567630</td>\n",
       "      <td>0.127774</td>\n",
       "      <td>1</td>\n",
       "      <td>DoS</td>\n",
       "      <td>HTTP</td>\n",
       "    </tr>\n",
       "  </tbody>\n",
       "</table>\n",
       "</div>"
      ],
      "text/plain": [
       "   pkSeqID proto            saddr  sport            daddr dport  seq  \\\n",
       "0        1   tcp  192.168.100.147  49960    192.168.100.7    80    9   \n",
       "1        2   arp    192.168.100.7     -1  192.168.100.147    -1   10   \n",
       "2        3   tcp  192.168.100.147  49962    192.168.100.7    80   11   \n",
       "3        4   tcp  192.168.100.147  49964    192.168.100.7    80   12   \n",
       "4        5   tcp  192.168.100.147  49966    192.168.100.7    80   13   \n",
       "\n",
       "     stddev  N_IN_Conn_P_SrcIP       min  state_number      mean  \\\n",
       "0  0.068909                 75  0.000000             1  0.068909   \n",
       "1  0.000000                  2  0.000131             2  0.000131   \n",
       "2  0.064494                 75  0.000000             1  0.064494   \n",
       "3  0.064189                 75  0.000000             1  0.064189   \n",
       "4  0.063887                 75  0.000000             1  0.063887   \n",
       "\n",
       "   N_IN_Conn_P_DstIP      drate     srate       max  attack category  \\\n",
       "0                 96  14.511893  0.566862  0.137818       1      DoS   \n",
       "1                  1   0.000000  0.000000  0.000131       1      DoS   \n",
       "2                 96  15.505319  0.567549  0.128988       1      DoS   \n",
       "3                 96  15.578993  0.567570  0.128378       1      DoS   \n",
       "4                 96  15.652637  0.567630  0.127774       1      DoS   \n",
       "\n",
       "  subcategory  \n",
       "0        HTTP  \n",
       "1        HTTP  \n",
       "2        HTTP  \n",
       "3        HTTP  \n",
       "4        HTTP  "
      ]
     },
     "execution_count": 17,
     "metadata": {},
     "output_type": "execute_result"
    }
   ],
   "source": [
    "data.head(5)"
   ]
  },
  {
   "cell_type": "code",
   "execution_count": 8,
   "id": "c289e5dd",
   "metadata": {},
   "outputs": [
    {
     "data": {
      "text/plain": [
       "(3668522, 19)"
      ]
     },
     "execution_count": 8,
     "metadata": {},
     "output_type": "execute_result"
    }
   ],
   "source": [
    "data.shape"
   ]
  },
  {
   "cell_type": "code",
   "execution_count": 9,
   "id": "ce6d2c08",
   "metadata": {},
   "outputs": [
    {
     "data": {
      "text/html": [
       "<div>\n",
       "<style scoped>\n",
       "    .dataframe tbody tr th:only-of-type {\n",
       "        vertical-align: middle;\n",
       "    }\n",
       "\n",
       "    .dataframe tbody tr th {\n",
       "        vertical-align: top;\n",
       "    }\n",
       "\n",
       "    .dataframe thead th {\n",
       "        text-align: right;\n",
       "    }\n",
       "</style>\n",
       "<table border=\"1\" class=\"dataframe\">\n",
       "  <thead>\n",
       "    <tr style=\"text-align: right;\">\n",
       "      <th></th>\n",
       "      <th>min</th>\n",
       "      <th>max</th>\n",
       "      <th>mean</th>\n",
       "    </tr>\n",
       "  </thead>\n",
       "  <tbody>\n",
       "    <tr>\n",
       "      <th>0</th>\n",
       "      <td>0.000000</td>\n",
       "      <td>0.137818</td>\n",
       "      <td>0.068909</td>\n",
       "    </tr>\n",
       "    <tr>\n",
       "      <th>1</th>\n",
       "      <td>0.000131</td>\n",
       "      <td>0.000131</td>\n",
       "      <td>0.000131</td>\n",
       "    </tr>\n",
       "    <tr>\n",
       "      <th>2</th>\n",
       "      <td>0.000000</td>\n",
       "      <td>0.128988</td>\n",
       "      <td>0.064494</td>\n",
       "    </tr>\n",
       "    <tr>\n",
       "      <th>3</th>\n",
       "      <td>0.000000</td>\n",
       "      <td>0.128378</td>\n",
       "      <td>0.064189</td>\n",
       "    </tr>\n",
       "    <tr>\n",
       "      <th>4</th>\n",
       "      <td>0.000000</td>\n",
       "      <td>0.127774</td>\n",
       "      <td>0.063887</td>\n",
       "    </tr>\n",
       "    <tr>\n",
       "      <th>...</th>\n",
       "      <td>...</td>\n",
       "      <td>...</td>\n",
       "      <td>...</td>\n",
       "    </tr>\n",
       "    <tr>\n",
       "      <th>3668517</th>\n",
       "      <td>0.013165</td>\n",
       "      <td>0.013165</td>\n",
       "      <td>0.013165</td>\n",
       "    </tr>\n",
       "    <tr>\n",
       "      <th>3668518</th>\n",
       "      <td>0.000574</td>\n",
       "      <td>0.000574</td>\n",
       "      <td>0.000574</td>\n",
       "    </tr>\n",
       "    <tr>\n",
       "      <th>3668519</th>\n",
       "      <td>2.874302</td>\n",
       "      <td>2.874302</td>\n",
       "      <td>2.874302</td>\n",
       "    </tr>\n",
       "    <tr>\n",
       "      <th>3668520</th>\n",
       "      <td>0.000003</td>\n",
       "      <td>0.000003</td>\n",
       "      <td>0.000003</td>\n",
       "    </tr>\n",
       "    <tr>\n",
       "      <th>3668521</th>\n",
       "      <td>0.000080</td>\n",
       "      <td>0.000272</td>\n",
       "      <td>0.000145</td>\n",
       "    </tr>\n",
       "  </tbody>\n",
       "</table>\n",
       "<p>3668522 rows × 3 columns</p>\n",
       "</div>"
      ],
      "text/plain": [
       "              min       max      mean\n",
       "0        0.000000  0.137818  0.068909\n",
       "1        0.000131  0.000131  0.000131\n",
       "2        0.000000  0.128988  0.064494\n",
       "3        0.000000  0.128378  0.064189\n",
       "4        0.000000  0.127774  0.063887\n",
       "...           ...       ...       ...\n",
       "3668517  0.013165  0.013165  0.013165\n",
       "3668518  0.000574  0.000574  0.000574\n",
       "3668519  2.874302  2.874302  2.874302\n",
       "3668520  0.000003  0.000003  0.000003\n",
       "3668521  0.000080  0.000272  0.000145\n",
       "\n",
       "[3668522 rows x 3 columns]"
      ]
     },
     "execution_count": 9,
     "metadata": {},
     "output_type": "execute_result"
    }
   ],
   "source": [
    "data[['min', 'max', 'mean']]"
   ]
  },
  {
   "cell_type": "code",
   "execution_count": 10,
   "id": "5c572337",
   "metadata": {},
   "outputs": [
    {
     "data": {
      "text/plain": [
       "['pkSeqID',\n",
       " 'proto',\n",
       " 'saddr',\n",
       " 'sport',\n",
       " 'daddr',\n",
       " 'dport',\n",
       " 'seq',\n",
       " 'stddev',\n",
       " 'N_IN_Conn_P_SrcIP',\n",
       " 'min',\n",
       " 'state_number',\n",
       " 'mean',\n",
       " 'N_IN_Conn_P_DstIP',\n",
       " 'drate',\n",
       " 'srate',\n",
       " 'max']"
      ]
     },
     "execution_count": 10,
     "metadata": {},
     "output_type": "execute_result"
    }
   ],
   "source": [
    "list(data.columns[:-3])"
   ]
  },
  {
   "cell_type": "code",
   "execution_count": 11,
   "id": "d7a20832",
   "metadata": {},
   "outputs": [
    {
     "data": {
      "text/plain": [
       "DDoS              1926624\n",
       "DoS               1650260\n",
       "Reconnaissance      91082\n",
       "Normal                477\n",
       "Theft                  79\n",
       "Name: category, dtype: int64"
      ]
     },
     "execution_count": 11,
     "metadata": {},
     "output_type": "execute_result"
    }
   ],
   "source": [
    "data.category.value_counts()"
   ]
  },
  {
   "cell_type": "code",
   "execution_count": 12,
   "id": "143b88c2",
   "metadata": {},
   "outputs": [],
   "source": [
    "ten_best_features = data[['seq','stddev','N_IN_Conn_P_SrcIP', 'min', 'state_number', 'mean', 'N_IN_Conn_P_DstIP',\n",
    "       'drate', 'srate', 'max']]\n",
    "target_features = data[['attack','category','subcategory']]"
   ]
  },
  {
   "cell_type": "code",
   "execution_count": 13,
   "id": "e62750ee",
   "metadata": {},
   "outputs": [
    {
     "data": {
      "text/html": [
       "<div>\n",
       "<style scoped>\n",
       "    .dataframe tbody tr th:only-of-type {\n",
       "        vertical-align: middle;\n",
       "    }\n",
       "\n",
       "    .dataframe tbody tr th {\n",
       "        vertical-align: top;\n",
       "    }\n",
       "\n",
       "    .dataframe thead th {\n",
       "        text-align: right;\n",
       "    }\n",
       "</style>\n",
       "<table border=\"1\" class=\"dataframe\">\n",
       "  <thead>\n",
       "    <tr style=\"text-align: right;\">\n",
       "      <th></th>\n",
       "      <th>attack</th>\n",
       "      <th>category</th>\n",
       "      <th>subcategory</th>\n",
       "    </tr>\n",
       "  </thead>\n",
       "  <tbody>\n",
       "    <tr>\n",
       "      <th>228917</th>\n",
       "      <td>1</td>\n",
       "      <td>1</td>\n",
       "      <td>6</td>\n",
       "    </tr>\n",
       "    <tr>\n",
       "      <th>947324</th>\n",
       "      <td>1</td>\n",
       "      <td>1</td>\n",
       "      <td>7</td>\n",
       "    </tr>\n",
       "    <tr>\n",
       "      <th>1899257</th>\n",
       "      <td>1</td>\n",
       "      <td>0</td>\n",
       "      <td>6</td>\n",
       "    </tr>\n",
       "  </tbody>\n",
       "</table>\n",
       "</div>"
      ],
      "text/plain": [
       "         attack  category  subcategory\n",
       "228917        1         1            6\n",
       "947324        1         1            7\n",
       "1899257       1         0            6"
      ]
     },
     "execution_count": 13,
     "metadata": {},
     "output_type": "execute_result"
    }
   ],
   "source": [
    "# Label Encoding the target columns\n",
    "le = LabelEncoder()\n",
    "target_features['category'] = le.fit_transform(target_features['category'])\n",
    "target_features['subcategory'] = le.fit_transform(target_features['subcategory'])\n",
    "\n",
    "target_features.sample(3)"
   ]
  },
  {
   "cell_type": "code",
   "execution_count": 14,
   "id": "59d8df60",
   "metadata": {},
   "outputs": [],
   "source": [
    "# Train-test Split\n",
    "X_train, X_test, y_train, y_test = train_test_split(ten_best_features,target_features)"
   ]
  },
  {
   "cell_type": "code",
   "execution_count": 15,
   "id": "3b595368",
   "metadata": {},
   "outputs": [
    {
     "data": {
      "text/html": [
       "<div>\n",
       "<style scoped>\n",
       "    .dataframe tbody tr th:only-of-type {\n",
       "        vertical-align: middle;\n",
       "    }\n",
       "\n",
       "    .dataframe tbody tr th {\n",
       "        vertical-align: top;\n",
       "    }\n",
       "\n",
       "    .dataframe thead th {\n",
       "        text-align: right;\n",
       "    }\n",
       "</style>\n",
       "<table border=\"1\" class=\"dataframe\">\n",
       "  <thead>\n",
       "    <tr style=\"text-align: right;\">\n",
       "      <th></th>\n",
       "      <th>seq</th>\n",
       "      <th>stddev</th>\n",
       "      <th>N_IN_Conn_P_SrcIP</th>\n",
       "      <th>min</th>\n",
       "      <th>state_number</th>\n",
       "      <th>mean</th>\n",
       "      <th>N_IN_Conn_P_DstIP</th>\n",
       "      <th>drate</th>\n",
       "      <th>srate</th>\n",
       "      <th>max</th>\n",
       "    </tr>\n",
       "  </thead>\n",
       "  <tbody>\n",
       "    <tr>\n",
       "      <th>1355308</th>\n",
       "      <td>213720</td>\n",
       "      <td>2.055817</td>\n",
       "      <td>20</td>\n",
       "      <td>0.000000</td>\n",
       "      <td>4</td>\n",
       "      <td>2.055487</td>\n",
       "      <td>20</td>\n",
       "      <td>0.0</td>\n",
       "      <td>0.181898</td>\n",
       "      <td>4.163110</td>\n",
       "    </tr>\n",
       "    <tr>\n",
       "      <th>393093</th>\n",
       "      <td>129465</td>\n",
       "      <td>0.137144</td>\n",
       "      <td>100</td>\n",
       "      <td>0.000000</td>\n",
       "      <td>3</td>\n",
       "      <td>0.068572</td>\n",
       "      <td>100</td>\n",
       "      <td>0.0</td>\n",
       "      <td>0.143300</td>\n",
       "      <td>0.342860</td>\n",
       "    </tr>\n",
       "    <tr>\n",
       "      <th>1020812</th>\n",
       "      <td>141379</td>\n",
       "      <td>0.021483</td>\n",
       "      <td>74</td>\n",
       "      <td>3.536902</td>\n",
       "      <td>4</td>\n",
       "      <td>3.564490</td>\n",
       "      <td>74</td>\n",
       "      <td>0.0</td>\n",
       "      <td>0.280070</td>\n",
       "      <td>3.595179</td>\n",
       "    </tr>\n",
       "    <tr>\n",
       "      <th>865944</th>\n",
       "      <td>248668</td>\n",
       "      <td>0.348485</td>\n",
       "      <td>73</td>\n",
       "      <td>4.102050</td>\n",
       "      <td>4</td>\n",
       "      <td>4.395293</td>\n",
       "      <td>73</td>\n",
       "      <td>0.0</td>\n",
       "      <td>0.231581</td>\n",
       "      <td>4.884946</td>\n",
       "    </tr>\n",
       "    <tr>\n",
       "      <th>2387401</th>\n",
       "      <td>211862</td>\n",
       "      <td>1.430134</td>\n",
       "      <td>100</td>\n",
       "      <td>0.000000</td>\n",
       "      <td>3</td>\n",
       "      <td>2.021812</td>\n",
       "      <td>100</td>\n",
       "      <td>0.0</td>\n",
       "      <td>0.328006</td>\n",
       "      <td>3.078909</td>\n",
       "    </tr>\n",
       "    <tr>\n",
       "      <th>...</th>\n",
       "      <td>...</td>\n",
       "      <td>...</td>\n",
       "      <td>...</td>\n",
       "      <td>...</td>\n",
       "      <td>...</td>\n",
       "      <td>...</td>\n",
       "      <td>...</td>\n",
       "      <td>...</td>\n",
       "      <td>...</td>\n",
       "      <td>...</td>\n",
       "    </tr>\n",
       "    <tr>\n",
       "      <th>3378456</th>\n",
       "      <td>225529</td>\n",
       "      <td>1.921805</td>\n",
       "      <td>91</td>\n",
       "      <td>0.000000</td>\n",
       "      <td>4</td>\n",
       "      <td>2.717808</td>\n",
       "      <td>100</td>\n",
       "      <td>0.0</td>\n",
       "      <td>0.490658</td>\n",
       "      <td>4.088502</td>\n",
       "    </tr>\n",
       "    <tr>\n",
       "      <th>2175386</th>\n",
       "      <td>261994</td>\n",
       "      <td>0.000000</td>\n",
       "      <td>100</td>\n",
       "      <td>0.000000</td>\n",
       "      <td>3</td>\n",
       "      <td>0.000000</td>\n",
       "      <td>100</td>\n",
       "      <td>0.0</td>\n",
       "      <td>0.097542</td>\n",
       "      <td>0.000000</td>\n",
       "    </tr>\n",
       "    <tr>\n",
       "      <th>1845214</th>\n",
       "      <td>193974</td>\n",
       "      <td>0.000000</td>\n",
       "      <td>25</td>\n",
       "      <td>0.243516</td>\n",
       "      <td>1</td>\n",
       "      <td>0.243516</td>\n",
       "      <td>100</td>\n",
       "      <td>0.0</td>\n",
       "      <td>4.106506</td>\n",
       "      <td>0.243516</td>\n",
       "    </tr>\n",
       "    <tr>\n",
       "      <th>521692</th>\n",
       "      <td>258066</td>\n",
       "      <td>0.000000</td>\n",
       "      <td>100</td>\n",
       "      <td>0.165873</td>\n",
       "      <td>1</td>\n",
       "      <td>0.165873</td>\n",
       "      <td>100</td>\n",
       "      <td>0.0</td>\n",
       "      <td>6.028708</td>\n",
       "      <td>0.165873</td>\n",
       "    </tr>\n",
       "    <tr>\n",
       "      <th>2236936</th>\n",
       "      <td>61396</td>\n",
       "      <td>1.690956</td>\n",
       "      <td>79</td>\n",
       "      <td>0.000000</td>\n",
       "      <td>3</td>\n",
       "      <td>2.385191</td>\n",
       "      <td>100</td>\n",
       "      <td>0.0</td>\n",
       "      <td>0.280824</td>\n",
       "      <td>3.726602</td>\n",
       "    </tr>\n",
       "  </tbody>\n",
       "</table>\n",
       "<p>2751391 rows × 10 columns</p>\n",
       "</div>"
      ],
      "text/plain": [
       "            seq    stddev  N_IN_Conn_P_SrcIP       min  state_number  \\\n",
       "1355308  213720  2.055817                 20  0.000000             4   \n",
       "393093   129465  0.137144                100  0.000000             3   \n",
       "1020812  141379  0.021483                 74  3.536902             4   \n",
       "865944   248668  0.348485                 73  4.102050             4   \n",
       "2387401  211862  1.430134                100  0.000000             3   \n",
       "...         ...       ...                ...       ...           ...   \n",
       "3378456  225529  1.921805                 91  0.000000             4   \n",
       "2175386  261994  0.000000                100  0.000000             3   \n",
       "1845214  193974  0.000000                 25  0.243516             1   \n",
       "521692   258066  0.000000                100  0.165873             1   \n",
       "2236936   61396  1.690956                 79  0.000000             3   \n",
       "\n",
       "             mean  N_IN_Conn_P_DstIP  drate     srate       max  \n",
       "1355308  2.055487                 20    0.0  0.181898  4.163110  \n",
       "393093   0.068572                100    0.0  0.143300  0.342860  \n",
       "1020812  3.564490                 74    0.0  0.280070  3.595179  \n",
       "865944   4.395293                 73    0.0  0.231581  4.884946  \n",
       "2387401  2.021812                100    0.0  0.328006  3.078909  \n",
       "...           ...                ...    ...       ...       ...  \n",
       "3378456  2.717808                100    0.0  0.490658  4.088502  \n",
       "2175386  0.000000                100    0.0  0.097542  0.000000  \n",
       "1845214  0.243516                100    0.0  4.106506  0.243516  \n",
       "521692   0.165873                100    0.0  6.028708  0.165873  \n",
       "2236936  2.385191                100    0.0  0.280824  3.726602  \n",
       "\n",
       "[2751391 rows x 10 columns]"
      ]
     },
     "execution_count": 15,
     "metadata": {},
     "output_type": "execute_result"
    }
   ],
   "source": [
    "X_train"
   ]
  },
  {
   "cell_type": "code",
   "execution_count": 14,
   "id": "b67e696f",
   "metadata": {},
   "outputs": [],
   "source": [
    "# Scaling the data\n",
    "sc = StandardScaler()\n",
    "X_train = sc.fit_transform(X_train)\n",
    "X_test = sc.transform(X_test)"
   ]
  },
  {
   "cell_type": "code",
   "execution_count": 15,
   "id": "ef115d9b",
   "metadata": {},
   "outputs": [],
   "source": [
    "class RandomForest:\n",
    "    def __init__(self,max_depth):\n",
    "        self.rfc_attack = RandomForestClassifier(max_depth=max_depth)\n",
    "        self.rfc_category = RandomForestClassifier(max_depth=max_depth)\n",
    "        self.rfc_subcategory = RandomForestClassifier(max_depth=max_depth)\n",
    "    \n",
    "    def fit(self,X_train,y_train):\n",
    "        self.rfc_attack.fit(X_train,y_train['attack'])\n",
    "        \n",
    "        features_category = np.concatenate((X_train,np.array(y_train['attack']).reshape(-1,1)),axis=1)\n",
    "        self.rfc_category.fit(features_category,y_train['category'])\n",
    "        \n",
    "        features_subcategory = np.concatenate((features_category,np.array(y_train['category']).reshape(-1,1)),axis=1)\n",
    "        self.rfc_subcategory.fit(features_subcategory,y_train['subcategory'])\n",
    "        \n",
    "    def predict(self,X_test):\n",
    "        predict_attack = self.rfc_attack.predict(X_test)\n",
    "        \n",
    "        test_category = np.concatenate((X_test,predict_attack.reshape(-1,1)),axis=1)\n",
    "        predict_category = self.rfc_category.predict(test_category)\n",
    "        \n",
    "        test_subcategory = np.concatenate((test_category,predict_category.reshape(-1,1)),axis=1)\n",
    "        predict_subcategory = self.rfc_subcategory.predict(test_subcategory)\n",
    "        \n",
    "        return pd.DataFrame({'attack':predict_attack,'category':predict_category,'subcategory':predict_subcategory})"
   ]
  },
  {
   "cell_type": "code",
   "execution_count": 16,
   "id": "00a950ae",
   "metadata": {},
   "outputs": [],
   "source": [
    "rf = RandomForest(max_depth=3)\n",
    "rf.fit(X_train,y_train)\n",
    "\n",
    "predictions_rfc = rf.predict(X_test)"
   ]
  },
  {
   "cell_type": "code",
   "execution_count": 17,
   "id": "9b5c2d08",
   "metadata": {},
   "outputs": [
    {
     "name": "stdout",
     "output_type": "stream",
     "text": [
      "[[   0    2]\n",
      " [   0 2498]]\n",
      "              precision    recall  f1-score   support\n",
      "\n",
      "           0       0.00      0.00      0.00         2\n",
      "           1       1.00      1.00      1.00      2498\n",
      "\n",
      "    accuracy                           1.00      2500\n",
      "   macro avg       0.50      0.50      0.50      2500\n",
      "weighted avg       1.00      1.00      1.00      2500\n",
      "\n"
     ]
    }
   ],
   "source": [
    "print(confusion_matrix(y_test['attack'],predictions_rfc['attack']))\n",
    "print(classification_report(y_test['attack'],predictions_rfc['attack']))"
   ]
  },
  {
   "cell_type": "code",
   "execution_count": 18,
   "id": "66722ef0",
   "metadata": {},
   "outputs": [
    {
     "name": "stdout",
     "output_type": "stream",
     "text": [
      "[[1258   46    0    0]\n",
      " [ 123  996    0    0]\n",
      " [   0    2    0    0]\n",
      " [  43    7    0   25]]\n",
      "              precision    recall  f1-score   support\n",
      "\n",
      "           0       0.88      0.96      0.92      1304\n",
      "           1       0.95      0.89      0.92      1119\n",
      "           2       0.00      0.00      0.00         2\n",
      "           3       1.00      0.33      0.50        75\n",
      "\n",
      "    accuracy                           0.91      2500\n",
      "   macro avg       0.71      0.55      0.59      2500\n",
      "weighted avg       0.91      0.91      0.91      2500\n",
      "\n"
     ]
    }
   ],
   "source": [
    "print(confusion_matrix(y_test['category'],predictions_rfc['category']))\n",
    "print(classification_report(y_test['category'],predictions_rfc['category']))"
   ]
  },
  {
   "cell_type": "code",
   "execution_count": 19,
   "id": "f71d1bdb",
   "metadata": {},
   "outputs": [
    {
     "name": "stdout",
     "output_type": "stream",
     "text": [
      "[[   0    0    0    0    1    0]\n",
      " [   0    0    0    0    2    0]\n",
      " [   0    0    0    0   15    0]\n",
      " [   0    0    0   28   32    0]\n",
      " [   0    0    0    0 1081    1]\n",
      " [   0    0    0    0    0 1340]]\n",
      "              precision    recall  f1-score   support\n",
      "\n",
      "           0       0.00      0.00      0.00         1\n",
      "           1       0.00      0.00      0.00         2\n",
      "           2       0.00      0.00      0.00        15\n",
      "           3       1.00      0.47      0.64        60\n",
      "           4       0.96      1.00      0.98      1082\n",
      "           5       1.00      1.00      1.00      1340\n",
      "\n",
      "    accuracy                           0.98      2500\n",
      "   macro avg       0.49      0.41      0.44      2500\n",
      "weighted avg       0.97      0.98      0.97      2500\n",
      "\n"
     ]
    }
   ],
   "source": [
    "print(confusion_matrix(y_test['subcategory'],predictions_rfc['subcategory']))\n",
    "print(classification_report(y_test['subcategory'],predictions_rfc['subcategory']))"
   ]
  },
  {
   "cell_type": "code",
   "execution_count": 20,
   "id": "263f1f46",
   "metadata": {},
   "outputs": [
    {
     "data": {
      "text/plain": [
       "0.9992"
      ]
     },
     "execution_count": 20,
     "metadata": {},
     "output_type": "execute_result"
    }
   ],
   "source": [
    "rf.rfc_attack.score(X_test,y_test['attack'])"
   ]
  },
  {
   "cell_type": "code",
   "execution_count": 21,
   "id": "3dca5721",
   "metadata": {},
   "outputs": [
    {
     "data": {
      "text/plain": [
       "0.9116"
      ]
     },
     "execution_count": 21,
     "metadata": {},
     "output_type": "execute_result"
    }
   ],
   "source": [
    "rf.rfc_category.score(np.concatenate((X_test,np.array(predictions_rfc['attack']).reshape(-1,1)),axis=1),y_test['category'])"
   ]
  },
  {
   "cell_type": "code",
   "execution_count": 22,
   "id": "c8232892",
   "metadata": {},
   "outputs": [
    {
     "data": {
      "text/plain": [
       "0.9796"
      ]
     },
     "execution_count": 22,
     "metadata": {},
     "output_type": "execute_result"
    }
   ],
   "source": [
    "rf.rfc_subcategory.score(np.concatenate((X_test,np.array(predictions_rfc['attack']).reshape(-1,1),\n",
    "                                    np.array(predictions_rfc['category']).reshape(-1,1)),axis=1),y_test['subcategory'])"
   ]
  },
  {
   "cell_type": "markdown",
   "id": "7cad4199",
   "metadata": {},
   "source": [
    "Column 분석"
   ]
  },
  {
   "cell_type": "code",
   "execution_count": 23,
   "id": "a4112a68",
   "metadata": {},
   "outputs": [
    {
     "data": {
      "text/plain": [
       "['state_number', 'mean', 'drate', 'srate', 'max']"
      ]
     },
     "execution_count": 23,
     "metadata": {},
     "output_type": "execute_result"
    }
   ],
   "source": [
    "col_lists = ['state_number','mean','drate','srate','max']\n",
    "col_lists"
   ]
  },
  {
   "cell_type": "code",
   "execution_count": 16,
   "id": "3ab81625",
   "metadata": {},
   "outputs": [
    {
     "data": {
      "text/plain": [
       "<AxesSubplot:>"
      ]
     },
     "execution_count": 16,
     "metadata": {},
     "output_type": "execute_result"
    },
    {
     "data": {
      "image/png": "[encoded data removed]",
      "text/plain": [
       "<Figure size 720x576 with 1 Axes>"
      ]
     },
     "metadata": {
      "needs_background": "light"
     },
     "output_type": "display_data"
    }
   ],
   "source": [
    "CountStatus = pd.value_counts(data['state_number'].values, sort=True)\n",
    "CountStatus.plot.bar()\n",
    "CountStatus.plot.bar(grid=True, figsize=(10,8), fontsize=15)  # figsize, fontsize 조정"
   ]
  },
  {
   "cell_type": "code",
   "execution_count": 32,
   "id": "ce627381",
   "metadata": {},
   "outputs": [
    {
     "data": {
      "text/html": [
       "<div>\n",
       "<style scoped>\n",
       "    .dataframe tbody tr th:only-of-type {\n",
       "        vertical-align: middle;\n",
       "    }\n",
       "\n",
       "    .dataframe tbody tr th {\n",
       "        vertical-align: top;\n",
       "    }\n",
       "\n",
       "    .dataframe thead th {\n",
       "        text-align: right;\n",
       "    }\n",
       "</style>\n",
       "<table border=\"1\" class=\"dataframe\">\n",
       "  <thead>\n",
       "    <tr style=\"text-align: right;\">\n",
       "      <th></th>\n",
       "      <th>state_number</th>\n",
       "      <th>mean</th>\n",
       "      <th>drate</th>\n",
       "      <th>srate</th>\n",
       "      <th>max</th>\n",
       "    </tr>\n",
       "  </thead>\n",
       "  <tbody>\n",
       "    <tr>\n",
       "      <th>2286359</th>\n",
       "      <td>3</td>\n",
       "      <td>3.567000</td>\n",
       "      <td>0.000000</td>\n",
       "      <td>0.282744</td>\n",
       "      <td>3.660118</td>\n",
       "    </tr>\n",
       "    <tr>\n",
       "      <th>2855872</th>\n",
       "      <td>4</td>\n",
       "      <td>2.862031</td>\n",
       "      <td>0.000000</td>\n",
       "      <td>0.616852</td>\n",
       "      <td>4.451514</td>\n",
       "    </tr>\n",
       "    <tr>\n",
       "      <th>2852325</th>\n",
       "      <td>4</td>\n",
       "      <td>4.431932</td>\n",
       "      <td>0.000000</td>\n",
       "      <td>0.459750</td>\n",
       "      <td>4.825602</td>\n",
       "    </tr>\n",
       "    <tr>\n",
       "      <th>3639639</th>\n",
       "      <td>4</td>\n",
       "      <td>0.000161</td>\n",
       "      <td>0.000000</td>\n",
       "      <td>0.000000</td>\n",
       "      <td>0.000161</td>\n",
       "    </tr>\n",
       "    <tr>\n",
       "      <th>813559</th>\n",
       "      <td>4</td>\n",
       "      <td>2.098648</td>\n",
       "      <td>0.000000</td>\n",
       "      <td>0.324368</td>\n",
       "      <td>2.671764</td>\n",
       "    </tr>\n",
       "    <tr>\n",
       "      <th>...</th>\n",
       "      <td>...</td>\n",
       "      <td>...</td>\n",
       "      <td>...</td>\n",
       "      <td>...</td>\n",
       "      <td>...</td>\n",
       "    </tr>\n",
       "    <tr>\n",
       "      <th>3519250</th>\n",
       "      <td>4</td>\n",
       "      <td>3.637702</td>\n",
       "      <td>0.000000</td>\n",
       "      <td>1.004853</td>\n",
       "      <td>4.984320</td>\n",
       "    </tr>\n",
       "    <tr>\n",
       "      <th>635806</th>\n",
       "      <td>4</td>\n",
       "      <td>2.743855</td>\n",
       "      <td>0.000000</td>\n",
       "      <td>0.229829</td>\n",
       "      <td>3.810860</td>\n",
       "    </tr>\n",
       "    <tr>\n",
       "      <th>690909</th>\n",
       "      <td>4</td>\n",
       "      <td>2.700096</td>\n",
       "      <td>0.000000</td>\n",
       "      <td>0.233758</td>\n",
       "      <td>3.637565</td>\n",
       "    </tr>\n",
       "    <tr>\n",
       "      <th>2438784</th>\n",
       "      <td>1</td>\n",
       "      <td>0.082482</td>\n",
       "      <td>0.000000</td>\n",
       "      <td>0.096463</td>\n",
       "      <td>0.329928</td>\n",
       "    </tr>\n",
       "    <tr>\n",
       "      <th>2054809</th>\n",
       "      <td>1</td>\n",
       "      <td>2.779895</td>\n",
       "      <td>0.238676</td>\n",
       "      <td>0.340636</td>\n",
       "      <td>4.149896</td>\n",
       "    </tr>\n",
       "  </tbody>\n",
       "</table>\n",
       "<p>10000 rows × 5 columns</p>\n",
       "</div>"
      ],
      "text/plain": [
       "         state_number      mean     drate     srate       max\n",
       "2286359             3  3.567000  0.000000  0.282744  3.660118\n",
       "2855872             4  2.862031  0.000000  0.616852  4.451514\n",
       "2852325             4  4.431932  0.000000  0.459750  4.825602\n",
       "3639639             4  0.000161  0.000000  0.000000  0.000161\n",
       "813559              4  2.098648  0.000000  0.324368  2.671764\n",
       "...               ...       ...       ...       ...       ...\n",
       "3519250             4  3.637702  0.000000  1.004853  4.984320\n",
       "635806              4  2.743855  0.000000  0.229829  3.810860\n",
       "690909              4  2.700096  0.000000  0.233758  3.637565\n",
       "2438784             1  0.082482  0.000000  0.096463  0.329928\n",
       "2054809             1  2.779895  0.238676  0.340636  4.149896\n",
       "\n",
       "[10000 rows x 5 columns]"
      ]
     },
     "execution_count": 32,
     "metadata": {},
     "output_type": "execute_result"
    }
   ],
   "source": [
    "data[col_lists]"
   ]
  },
  {
   "cell_type": "code",
   "execution_count": 34,
   "id": "80d47f17",
   "metadata": {},
   "outputs": [
    {
     "data": {
      "text/plain": [
       "<bound method NDFrame.describe of          state_number      mean     drate     srate       max\n",
       "2286359             3  3.567000  0.000000  0.282744  3.660118\n",
       "2855872             4  2.862031  0.000000  0.616852  4.451514\n",
       "2852325             4  4.431932  0.000000  0.459750  4.825602\n",
       "3639639             4  0.000161  0.000000  0.000000  0.000161\n",
       "813559              4  2.098648  0.000000  0.324368  2.671764\n",
       "...               ...       ...       ...       ...       ...\n",
       "3519250             4  3.637702  0.000000  1.004853  4.984320\n",
       "635806              4  2.743855  0.000000  0.229829  3.810860\n",
       "690909              4  2.700096  0.000000  0.233758  3.637565\n",
       "2438784             1  0.082482  0.000000  0.096463  0.329928\n",
       "2054809             1  2.779895  0.238676  0.340636  4.149896\n",
       "\n",
       "[10000 rows x 5 columns]>"
      ]
     },
     "execution_count": 34,
     "metadata": {},
     "output_type": "execute_result"
    }
   ],
   "source": [
    "data[col_lists].describe"
   ]
  },
  {
   "cell_type": "code",
   "execution_count": 27,
   "id": "19512e12",
   "metadata": {},
   "outputs": [
    {
     "data": {
      "text/plain": [
       "0.000000    1170\n",
       "0.000043       3\n",
       "2.716815       3\n",
       "0.000092       3\n",
       "0.000051       3\n",
       "            ... \n",
       "3.750312       1\n",
       "0.062747       1\n",
       "2.525239       1\n",
       "0.148490       1\n",
       "2.779895       1\n",
       "Name: mean, Length: 8619, dtype: int64"
      ]
     },
     "execution_count": 27,
     "metadata": {},
     "output_type": "execute_result"
    }
   ],
   "source": [
    "data['mean'].value_counts()"
   ]
  },
  {
   "cell_type": "code",
   "execution_count": 28,
   "id": "d9d85543",
   "metadata": {},
   "outputs": [
    {
     "data": {
      "text/plain": [
       "0.000000    9280\n",
       "0.036112       3\n",
       "0.036752       3\n",
       "0.063248       2\n",
       "0.036974       2\n",
       "            ... \n",
       "0.085792       1\n",
       "0.053021       1\n",
       "0.059743       1\n",
       "0.037866       1\n",
       "0.238676       1\n",
       "Name: drate, Length: 669, dtype: int64"
      ]
     },
     "execution_count": 28,
     "metadata": {},
     "output_type": "execute_result"
    }
   ],
   "source": [
    "data.drate.value_counts()"
   ]
  },
  {
   "cell_type": "code",
   "execution_count": 29,
   "id": "2ae22b2f",
   "metadata": {},
   "outputs": [
    {
     "data": {
      "text/plain": [
       "0.000000    521\n",
       "0.446608      6\n",
       "0.446823      6\n",
       "0.406331      6\n",
       "0.446591      6\n",
       "           ... \n",
       "0.122252      1\n",
       "0.104306      1\n",
       "0.602866      1\n",
       "5.041644      1\n",
       "0.340636      1\n",
       "Name: srate, Length: 8240, dtype: int64"
      ]
     },
     "execution_count": 29,
     "metadata": {},
     "output_type": "execute_result"
    }
   ],
   "source": [
    "data.srate.value_counts()"
   ]
  },
  {
   "cell_type": "code",
   "execution_count": 53,
   "id": "2ba57222",
   "metadata": {},
   "outputs": [
    {
     "data": {
      "text/plain": [
       "count    3.668522e+06\n",
       "mean     2.955111e+00\n",
       "std      7.245425e+02\n",
       "min      0.000000e+00\n",
       "25%      1.559700e-01\n",
       "50%      2.837830e-01\n",
       "75%      4.882010e-01\n",
       "max      1.000000e+06\n",
       "Name: srate, dtype: float64"
      ]
     },
     "execution_count": 53,
     "metadata": {},
     "output_type": "execute_result"
    }
   ],
   "source": [
    "data.srate.describe()"
   ]
  },
  {
   "cell_type": "code",
   "execution_count": 54,
   "id": "866d48d8",
   "metadata": {},
   "outputs": [
    {
     "data": {
      "text/plain": [
       "count    3.668522e+06\n",
       "mean     4.455046e-01\n",
       "std      6.028863e+01\n",
       "min      0.000000e+00\n",
       "25%      0.000000e+00\n",
       "50%      0.000000e+00\n",
       "75%      0.000000e+00\n",
       "max      5.882353e+04\n",
       "Name: drate, dtype: float64"
      ]
     },
     "execution_count": 54,
     "metadata": {},
     "output_type": "execute_result"
    }
   ],
   "source": [
    "data.drate.describe()"
   ]
  },
  {
   "cell_type": "code",
   "execution_count": 31,
   "id": "65f7bf5a",
   "metadata": {},
   "outputs": [
    {
     "data": {
      "text/plain": [
       "0.000000    1170\n",
       "4.175018       3\n",
       "0.000066       3\n",
       "0.000051       3\n",
       "2.604932       3\n",
       "            ... \n",
       "4.804831       1\n",
       "4.995605       1\n",
       "4.051570       1\n",
       "4.997645       1\n",
       "4.149896       1\n",
       "Name: max, Length: 8633, dtype: int64"
      ]
     },
     "execution_count": 31,
     "metadata": {},
     "output_type": "execute_result"
    }
   ],
   "source": [
    "data['max'].value_counts()"
   ]
  },
  {
   "cell_type": "code",
   "execution_count": 49,
   "id": "53b33176",
   "metadata": {},
   "outputs": [
    {
     "data": {
      "text/plain": [
       "4     1996208\n",
       "3      878697\n",
       "1      775168\n",
       "5        8950\n",
       "6        6387\n",
       "7        2476\n",
       "2         526\n",
       "9          70\n",
       "10         16\n",
       "11         16\n",
       "8           8\n",
       "Name: state_number, dtype: int64"
      ]
     },
     "execution_count": 49,
     "metadata": {},
     "output_type": "execute_result"
    }
   ],
   "source": [
    "data.state_number.value_counts()"
   ]
  }
 ],
 "metadata": {
  "kernelspec": {
   "display_name": "Python 3 (ipykernel)",
   "language": "python",
   "name": "python3"
  },
  "language_info": {
   "codemirror_mode": {
    "name": "ipython",
    "version": 3
   },
   "file_extension": ".py",
   "mimetype": "text/x-python",
   "name": "python",
   "nbconvert_exporter": "python",
   "pygments_lexer": "ipython3",
   "version": "3.9.7"
  }
 },
 "nbformat": 4,
 "nbformat_minor": 5
}
