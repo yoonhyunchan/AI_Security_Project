{
 "cells": [
  {
   "cell_type": "markdown",
   "id": "928fe8c7",
   "metadata": {},
   "source": [
    "# Random Forest"
   ]
  },
  {
   "cell_type": "markdown",
   "id": "cc6286e5",
   "metadata": {},
   "source": [
    "## Library Import"
   ]
  },
  {
   "cell_type": "code",
   "execution_count": 1,
   "id": "3f99ad95",
   "metadata": {},
   "outputs": [],
   "source": [
    "import pandas as pd\n",
    "import numpy as np\n",
    "import matplotlib.pyplot as plt\n",
    "\n",
    "from sklearn.ensemble import RandomForestClassifier\n",
    "from sklearn.datasets import make_classification\n",
    "from sklearn.model_selection import train_test_split\n",
    "from sklearn.preprocessing import LabelEncoder\n",
    "from sklearn.metrics import accuracy_score, confusion_matrix, classification_report\n",
    "from sklearn.model_selection import GridSearchCV\n",
    "\n",
    "import glob\n",
    "import os\n",
    "import seaborn as sns\n",
    "import warnings"
   ]
  },
  {
   "cell_type": "code",
   "execution_count": 2,
   "id": "e7072ef1",
   "metadata": {},
   "outputs": [],
   "source": [
    "warnings.filterwarnings('ignore')"
   ]
  },
  {
   "cell_type": "markdown",
   "id": "ebe3b901",
   "metadata": {},
   "source": [
    "## Data Import"
   ]
  },
  {
   "cell_type": "code",
   "execution_count": 3,
   "id": "09a6825a",
   "metadata": {},
   "outputs": [],
   "source": [
    "# def add_cols(path, cols):\n",
    "#     with open(path,\"r\") as f:  \n",
    "#         oline=f.readlines() \n",
    "#         oline.insert(0,cols) \n",
    "#         f.close() \n",
    "\n",
    "#     with open(path,\"w\") as f:\n",
    "#         f.writelines(oline) \n",
    "#         f.close() "
   ]
  },
  {
   "cell_type": "code",
   "execution_count": 4,
   "id": "1efa59cb",
   "metadata": {},
   "outputs": [],
   "source": [
    "with open(\"./Bot_Iot_Data_File/Final_Entire_Dataset/UNSW_2018_IoT_Botnet_Dataset_Feature_Names.csv\",\"r\") as f:\n",
    "    cols = f.read()\n",
    "    f.close()\n",
    "\n",
    "# for i in range(1,75):\n",
    "#     path = f\"./Bot_Iot_Data_File/Final_Entire_Dataset/UNSW_2018_IoT_Botnet_Dataset_{i}.csv\"\n",
    "#     add_cols(path, cols)"
   ]
  },
  {
   "cell_type": "code",
   "execution_count": 5,
   "id": "b4f86ba1",
   "metadata": {
    "scrolled": true
   },
   "outputs": [
    {
     "name": "stdout",
     "output_type": "stream",
     "text": [
      "Resultant CSV after joining all CSV files at a particular location...\n"
     ]
    }
   ],
   "source": [
    "files = os.path.join(\"./Bot_Iot_Data_File/Final_Entire_Dataset/\", \"UNSW_2018_IoT_Botnet_Dataset_?.csv\")\n",
    "files = glob.glob(files)\n",
    "\n",
    "print(\"Resultant CSV after joining all CSV files at a particular location...\");\n",
    "\n",
    "# joining files with concat and read_csv\n",
    "data = pd.concat(map(pd.read_csv, files), ignore_index=True)"
   ]
  },
  {
   "cell_type": "markdown",
   "id": "38455fe3",
   "metadata": {},
   "source": [
    "## 결측치 제거"
   ]
  },
  {
   "cell_type": "code",
   "execution_count": 6,
   "id": "1a4cdd13",
   "metadata": {},
   "outputs": [],
   "source": [
    "isnull_cols = ['smac', 'dmac', 'soui', 'doui', 'sco', 'dco']\n",
    "data = data.drop(columns = isnull_cols)"
   ]
  },
  {
   "cell_type": "markdown",
   "id": "178974fb",
   "metadata": {},
   "source": [
    "## 수치형 데이터, 범주형 데이터 확인"
   ]
  },
  {
   "cell_type": "code",
   "execution_count": 7,
   "id": "687b1d17",
   "metadata": {},
   "outputs": [
    {
     "name": "stdout",
     "output_type": "stream",
     "text": [
      "pkSeqID : 9000000 (int64)\n",
      "stime : 8179361 (float64)\n",
      "flgs : 13 (object)\n",
      "proto : 7 (object)\n",
      "saddr : 25 (object)\n",
      "sport : 100448 (object)\n",
      "daddr : 290 (object)\n",
      "dport : 115950 (object)\n",
      "pkts : 650 (int64)\n",
      "bytes : 4664 (int64)\n",
      "state : 13 (object)\n",
      "ltime : 7652811 (float64)\n",
      "seq : 458270 (int64)\n",
      "dur : 1430477 (float64)\n",
      "mean : 383355 (float64)\n",
      "stddev : 307127 (float64)\n",
      "sum : 783222 (float64)\n",
      "min : 201259 (float64)\n",
      "max : 478478 (float64)\n",
      "spkts : 540 (int64)\n",
      "dpkts : 267 (int64)\n",
      "sbytes : 3139 (int64)\n",
      "dbytes : 1620 (int64)\n",
      "rate : 307190 (float64)\n",
      "srate : 175722 (float64)\n",
      "drate : 86060 (float64)\n",
      "attack : 2 (int64)\n",
      "category : 4 (object)\n",
      "subcategory  : 7 (object)\n"
     ]
    }
   ],
   "source": [
    "for c in data.columns:\n",
    "    print(f\"{c} : {len(data[c].unique())} ({data[c].dtype})\")"
   ]
  },
  {
   "cell_type": "markdown",
   "id": "cafa0d8d",
   "metadata": {},
   "source": [
    "### 데이터셋은 인공적으로 만들어진 공격이기 때문에 실제 네트워크와 상관없는 ip, port제거\n",
    "### 시간?(stime)"
   ]
  },
  {
   "cell_type": "code",
   "execution_count": 8,
   "id": "7abd0c42",
   "metadata": {},
   "outputs": [],
   "source": [
    "data = data.drop(columns = ['pkSeqID', 'saddr', 'sport', 'daddr', 'dport'])"
   ]
  },
  {
   "cell_type": "markdown",
   "id": "d4e714fa",
   "metadata": {},
   "source": [
    "## Feature와 Target 설정"
   ]
  },
  {
   "cell_type": "code",
   "execution_count": 9,
   "id": "6b02370a",
   "metadata": {},
   "outputs": [],
   "source": [
    "# best_cols = ['seq', 'stddev', 'N_IN_Conn_P_SrcIP', 'min', 'state_number', 'mean', 'N_IN_Conn_P_DstIP', 'drate', 'srate', 'max']\n",
    "# target_col = ['category']"
   ]
  },
  {
   "cell_type": "code",
   "execution_count": 10,
   "id": "e2eb6a51",
   "metadata": {
    "scrolled": false
   },
   "outputs": [],
   "source": [
    "# data = data[best_cols + target_col]"
   ]
  },
  {
   "cell_type": "code",
   "execution_count": 11,
   "id": "313572ea",
   "metadata": {
    "scrolled": true
   },
   "outputs": [],
   "source": [
    "# data.head(5)"
   ]
  },
  {
   "cell_type": "code",
   "execution_count": 12,
   "id": "3dbb7e85",
   "metadata": {},
   "outputs": [],
   "source": [
    "# X_orig = data.drop(columns = target_col)\n",
    "# y = data[target_col]\n",
    "# y = np.ravel(y)\n",
    "# y"
   ]
  },
  {
   "cell_type": "code",
   "execution_count": 13,
   "id": "909bf7e9",
   "metadata": {},
   "outputs": [
    {
     "data": {
      "text/html": [
       "<div>\n",
       "<style scoped>\n",
       "    .dataframe tbody tr th:only-of-type {\n",
       "        vertical-align: middle;\n",
       "    }\n",
       "\n",
       "    .dataframe tbody tr th {\n",
       "        vertical-align: top;\n",
       "    }\n",
       "\n",
       "    .dataframe thead th {\n",
       "        text-align: right;\n",
       "    }\n",
       "</style>\n",
       "<table border=\"1\" class=\"dataframe\">\n",
       "  <thead>\n",
       "    <tr style=\"text-align: right;\">\n",
       "      <th></th>\n",
       "      <th>stime</th>\n",
       "      <th>flgs</th>\n",
       "      <th>proto</th>\n",
       "      <th>pkts</th>\n",
       "      <th>bytes</th>\n",
       "      <th>state</th>\n",
       "      <th>ltime</th>\n",
       "      <th>seq</th>\n",
       "      <th>dur</th>\n",
       "      <th>mean</th>\n",
       "      <th>...</th>\n",
       "      <th>sum</th>\n",
       "      <th>min</th>\n",
       "      <th>max</th>\n",
       "      <th>spkts</th>\n",
       "      <th>dpkts</th>\n",
       "      <th>sbytes</th>\n",
       "      <th>dbytes</th>\n",
       "      <th>rate</th>\n",
       "      <th>srate</th>\n",
       "      <th>drate</th>\n",
       "    </tr>\n",
       "  </thead>\n",
       "  <tbody>\n",
       "    <tr>\n",
       "      <th>0</th>\n",
       "      <td>1.528082e+09</td>\n",
       "      <td>e g</td>\n",
       "      <td>tcp</td>\n",
       "      <td>9</td>\n",
       "      <td>822</td>\n",
       "      <td>RST</td>\n",
       "      <td>1.528082e+09</td>\n",
       "      <td>39416</td>\n",
       "      <td>51.364681</td>\n",
       "      <td>0.159031</td>\n",
       "      <td>...</td>\n",
       "      <td>0.477094</td>\n",
       "      <td>0.149062</td>\n",
       "      <td>0.164338</td>\n",
       "      <td>6</td>\n",
       "      <td>3</td>\n",
       "      <td>642</td>\n",
       "      <td>180</td>\n",
       "      <td>0.155749</td>\n",
       "      <td>0.097343</td>\n",
       "      <td>0.038937</td>\n",
       "    </tr>\n",
       "    <tr>\n",
       "      <th>1</th>\n",
       "      <td>1.528082e+09</td>\n",
       "      <td>e g</td>\n",
       "      <td>tcp</td>\n",
       "      <td>9</td>\n",
       "      <td>822</td>\n",
       "      <td>RST</td>\n",
       "      <td>1.528082e+09</td>\n",
       "      <td>39417</td>\n",
       "      <td>51.364681</td>\n",
       "      <td>0.159031</td>\n",
       "      <td>...</td>\n",
       "      <td>0.477092</td>\n",
       "      <td>0.149062</td>\n",
       "      <td>0.164337</td>\n",
       "      <td>6</td>\n",
       "      <td>3</td>\n",
       "      <td>642</td>\n",
       "      <td>180</td>\n",
       "      <td>0.155749</td>\n",
       "      <td>0.097343</td>\n",
       "      <td>0.038937</td>\n",
       "    </tr>\n",
       "    <tr>\n",
       "      <th>2</th>\n",
       "      <td>1.528082e+09</td>\n",
       "      <td>e g</td>\n",
       "      <td>tcp</td>\n",
       "      <td>9</td>\n",
       "      <td>822</td>\n",
       "      <td>RST</td>\n",
       "      <td>1.528082e+09</td>\n",
       "      <td>39418</td>\n",
       "      <td>51.364681</td>\n",
       "      <td>0.159031</td>\n",
       "      <td>...</td>\n",
       "      <td>0.477092</td>\n",
       "      <td>0.149062</td>\n",
       "      <td>0.164337</td>\n",
       "      <td>6</td>\n",
       "      <td>3</td>\n",
       "      <td>642</td>\n",
       "      <td>180</td>\n",
       "      <td>0.155749</td>\n",
       "      <td>0.097343</td>\n",
       "      <td>0.038937</td>\n",
       "    </tr>\n",
       "    <tr>\n",
       "      <th>3</th>\n",
       "      <td>1.528082e+09</td>\n",
       "      <td>e g</td>\n",
       "      <td>tcp</td>\n",
       "      <td>9</td>\n",
       "      <td>822</td>\n",
       "      <td>RST</td>\n",
       "      <td>1.528082e+09</td>\n",
       "      <td>39419</td>\n",
       "      <td>51.404530</td>\n",
       "      <td>0.172313</td>\n",
       "      <td>...</td>\n",
       "      <td>0.516939</td>\n",
       "      <td>0.163692</td>\n",
       "      <td>0.188911</td>\n",
       "      <td>6</td>\n",
       "      <td>3</td>\n",
       "      <td>642</td>\n",
       "      <td>180</td>\n",
       "      <td>0.155628</td>\n",
       "      <td>0.097268</td>\n",
       "      <td>0.038907</td>\n",
       "    </tr>\n",
       "    <tr>\n",
       "      <th>4</th>\n",
       "      <td>1.528082e+09</td>\n",
       "      <td>e g</td>\n",
       "      <td>tcp</td>\n",
       "      <td>9</td>\n",
       "      <td>822</td>\n",
       "      <td>RST</td>\n",
       "      <td>1.528082e+09</td>\n",
       "      <td>39420</td>\n",
       "      <td>51.404530</td>\n",
       "      <td>0.172313</td>\n",
       "      <td>...</td>\n",
       "      <td>0.516938</td>\n",
       "      <td>0.163691</td>\n",
       "      <td>0.188912</td>\n",
       "      <td>6</td>\n",
       "      <td>3</td>\n",
       "      <td>642</td>\n",
       "      <td>180</td>\n",
       "      <td>0.155628</td>\n",
       "      <td>0.097268</td>\n",
       "      <td>0.038907</td>\n",
       "    </tr>\n",
       "    <tr>\n",
       "      <th>...</th>\n",
       "      <td>...</td>\n",
       "      <td>...</td>\n",
       "      <td>...</td>\n",
       "      <td>...</td>\n",
       "      <td>...</td>\n",
       "      <td>...</td>\n",
       "      <td>...</td>\n",
       "      <td>...</td>\n",
       "      <td>...</td>\n",
       "      <td>...</td>\n",
       "      <td>...</td>\n",
       "      <td>...</td>\n",
       "      <td>...</td>\n",
       "      <td>...</td>\n",
       "      <td>...</td>\n",
       "      <td>...</td>\n",
       "      <td>...</td>\n",
       "      <td>...</td>\n",
       "      <td>...</td>\n",
       "      <td>...</td>\n",
       "      <td>...</td>\n",
       "    </tr>\n",
       "    <tr>\n",
       "      <th>8999995</th>\n",
       "      <td>1.528082e+09</td>\n",
       "      <td>e s</td>\n",
       "      <td>tcp</td>\n",
       "      <td>3</td>\n",
       "      <td>462</td>\n",
       "      <td>REQ</td>\n",
       "      <td>1.528082e+09</td>\n",
       "      <td>91424</td>\n",
       "      <td>42.664722</td>\n",
       "      <td>0.000000</td>\n",
       "      <td>...</td>\n",
       "      <td>0.000000</td>\n",
       "      <td>0.000000</td>\n",
       "      <td>0.000000</td>\n",
       "      <td>3</td>\n",
       "      <td>0</td>\n",
       "      <td>462</td>\n",
       "      <td>0</td>\n",
       "      <td>0.046877</td>\n",
       "      <td>0.046877</td>\n",
       "      <td>0.000000</td>\n",
       "    </tr>\n",
       "    <tr>\n",
       "      <th>8999996</th>\n",
       "      <td>1.528082e+09</td>\n",
       "      <td>e s</td>\n",
       "      <td>tcp</td>\n",
       "      <td>3</td>\n",
       "      <td>462</td>\n",
       "      <td>REQ</td>\n",
       "      <td>1.528082e+09</td>\n",
       "      <td>91425</td>\n",
       "      <td>42.664722</td>\n",
       "      <td>0.000000</td>\n",
       "      <td>...</td>\n",
       "      <td>0.000000</td>\n",
       "      <td>0.000000</td>\n",
       "      <td>0.000000</td>\n",
       "      <td>3</td>\n",
       "      <td>0</td>\n",
       "      <td>462</td>\n",
       "      <td>0</td>\n",
       "      <td>0.046877</td>\n",
       "      <td>0.046877</td>\n",
       "      <td>0.000000</td>\n",
       "    </tr>\n",
       "    <tr>\n",
       "      <th>8999997</th>\n",
       "      <td>1.528082e+09</td>\n",
       "      <td>e s</td>\n",
       "      <td>tcp</td>\n",
       "      <td>3</td>\n",
       "      <td>462</td>\n",
       "      <td>REQ</td>\n",
       "      <td>1.528082e+09</td>\n",
       "      <td>91426</td>\n",
       "      <td>42.664722</td>\n",
       "      <td>0.000000</td>\n",
       "      <td>...</td>\n",
       "      <td>0.000000</td>\n",
       "      <td>0.000000</td>\n",
       "      <td>0.000000</td>\n",
       "      <td>3</td>\n",
       "      <td>0</td>\n",
       "      <td>462</td>\n",
       "      <td>0</td>\n",
       "      <td>0.046877</td>\n",
       "      <td>0.046877</td>\n",
       "      <td>0.000000</td>\n",
       "    </tr>\n",
       "    <tr>\n",
       "      <th>8999998</th>\n",
       "      <td>1.528082e+09</td>\n",
       "      <td>e s</td>\n",
       "      <td>tcp</td>\n",
       "      <td>3</td>\n",
       "      <td>462</td>\n",
       "      <td>REQ</td>\n",
       "      <td>1.528082e+09</td>\n",
       "      <td>91427</td>\n",
       "      <td>42.664722</td>\n",
       "      <td>0.000000</td>\n",
       "      <td>...</td>\n",
       "      <td>0.000000</td>\n",
       "      <td>0.000000</td>\n",
       "      <td>0.000000</td>\n",
       "      <td>3</td>\n",
       "      <td>0</td>\n",
       "      <td>462</td>\n",
       "      <td>0</td>\n",
       "      <td>0.046877</td>\n",
       "      <td>0.046877</td>\n",
       "      <td>0.000000</td>\n",
       "    </tr>\n",
       "    <tr>\n",
       "      <th>8999999</th>\n",
       "      <td>1.528082e+09</td>\n",
       "      <td>e s</td>\n",
       "      <td>tcp</td>\n",
       "      <td>3</td>\n",
       "      <td>462</td>\n",
       "      <td>REQ</td>\n",
       "      <td>1.528082e+09</td>\n",
       "      <td>91428</td>\n",
       "      <td>42.664722</td>\n",
       "      <td>0.000000</td>\n",
       "      <td>...</td>\n",
       "      <td>0.000000</td>\n",
       "      <td>0.000000</td>\n",
       "      <td>0.000000</td>\n",
       "      <td>3</td>\n",
       "      <td>0</td>\n",
       "      <td>462</td>\n",
       "      <td>0</td>\n",
       "      <td>0.046877</td>\n",
       "      <td>0.046877</td>\n",
       "      <td>0.000000</td>\n",
       "    </tr>\n",
       "  </tbody>\n",
       "</table>\n",
       "<p>9000000 rows × 21 columns</p>\n",
       "</div>"
      ],
      "text/plain": [
       "                stime flgs proto  pkts  bytes state         ltime    seq  \\\n",
       "0        1.528082e+09  e g   tcp     9    822   RST  1.528082e+09  39416   \n",
       "1        1.528082e+09  e g   tcp     9    822   RST  1.528082e+09  39417   \n",
       "2        1.528082e+09  e g   tcp     9    822   RST  1.528082e+09  39418   \n",
       "3        1.528082e+09  e g   tcp     9    822   RST  1.528082e+09  39419   \n",
       "4        1.528082e+09  e g   tcp     9    822   RST  1.528082e+09  39420   \n",
       "...               ...  ...   ...   ...    ...   ...           ...    ...   \n",
       "8999995  1.528082e+09  e s   tcp     3    462   REQ  1.528082e+09  91424   \n",
       "8999996  1.528082e+09  e s   tcp     3    462   REQ  1.528082e+09  91425   \n",
       "8999997  1.528082e+09  e s   tcp     3    462   REQ  1.528082e+09  91426   \n",
       "8999998  1.528082e+09  e s   tcp     3    462   REQ  1.528082e+09  91427   \n",
       "8999999  1.528082e+09  e s   tcp     3    462   REQ  1.528082e+09  91428   \n",
       "\n",
       "               dur      mean  ...       sum       min       max  spkts  dpkts  \\\n",
       "0        51.364681  0.159031  ...  0.477094  0.149062  0.164338      6      3   \n",
       "1        51.364681  0.159031  ...  0.477092  0.149062  0.164337      6      3   \n",
       "2        51.364681  0.159031  ...  0.477092  0.149062  0.164337      6      3   \n",
       "3        51.404530  0.172313  ...  0.516939  0.163692  0.188911      6      3   \n",
       "4        51.404530  0.172313  ...  0.516938  0.163691  0.188912      6      3   \n",
       "...            ...       ...  ...       ...       ...       ...    ...    ...   \n",
       "8999995  42.664722  0.000000  ...  0.000000  0.000000  0.000000      3      0   \n",
       "8999996  42.664722  0.000000  ...  0.000000  0.000000  0.000000      3      0   \n",
       "8999997  42.664722  0.000000  ...  0.000000  0.000000  0.000000      3      0   \n",
       "8999998  42.664722  0.000000  ...  0.000000  0.000000  0.000000      3      0   \n",
       "8999999  42.664722  0.000000  ...  0.000000  0.000000  0.000000      3      0   \n",
       "\n",
       "         sbytes  dbytes      rate     srate     drate  \n",
       "0           642     180  0.155749  0.097343  0.038937  \n",
       "1           642     180  0.155749  0.097343  0.038937  \n",
       "2           642     180  0.155749  0.097343  0.038937  \n",
       "3           642     180  0.155628  0.097268  0.038907  \n",
       "4           642     180  0.155628  0.097268  0.038907  \n",
       "...         ...     ...       ...       ...       ...  \n",
       "8999995     462       0  0.046877  0.046877  0.000000  \n",
       "8999996     462       0  0.046877  0.046877  0.000000  \n",
       "8999997     462       0  0.046877  0.046877  0.000000  \n",
       "8999998     462       0  0.046877  0.046877  0.000000  \n",
       "8999999     462       0  0.046877  0.046877  0.000000  \n",
       "\n",
       "[9000000 rows x 21 columns]"
      ]
     },
     "execution_count": 13,
     "metadata": {},
     "output_type": "execute_result"
    }
   ],
   "source": [
    "target_col = 'category'\n",
    "x = data.drop(columns = ['attack', 'category', 'subcategory '])\n",
    "y = data['category']\n",
    "x"
   ]
  },
  {
   "cell_type": "code",
   "execution_count": 14,
   "id": "b9493053",
   "metadata": {},
   "outputs": [
    {
     "data": {
      "text/plain": [
       "Index(['stime', 'flgs', 'proto', 'pkts', 'bytes', 'state', 'ltime', 'seq',\n",
       "       'dur', 'mean', 'stddev', 'sum', 'min', 'max', 'spkts', 'dpkts',\n",
       "       'sbytes', 'dbytes', 'rate', 'srate', 'drate'],\n",
       "      dtype='object')"
      ]
     },
     "execution_count": 14,
     "metadata": {},
     "output_type": "execute_result"
    }
   ],
   "source": [
    "x.columns"
   ]
  },
  {
   "cell_type": "code",
   "execution_count": 15,
   "id": "2ca0bf70",
   "metadata": {},
   "outputs": [
    {
     "data": {
      "text/plain": [
       "array(['DoS', 'Normal', 'Reconnaissance', 'Theft'], dtype=object)"
      ]
     },
     "execution_count": 15,
     "metadata": {},
     "output_type": "execute_result"
    }
   ],
   "source": [
    "y.unique()"
   ]
  },
  {
   "cell_type": "markdown",
   "id": "4a8a0acb",
   "metadata": {},
   "source": [
    "## 데이터 전처리 및 정규화"
   ]
  },
  {
   "cell_type": "code",
   "execution_count": 16,
   "id": "27e9f403",
   "metadata": {},
   "outputs": [],
   "source": [
    "# 범주형 데이터\n",
    "categorical_Feature = ['flgs', 'proto', 'state']"
   ]
  },
  {
   "cell_type": "code",
   "execution_count": 17,
   "id": "bfa727fd",
   "metadata": {},
   "outputs": [],
   "source": [
    "x_numerical = x.drop(columns = categorical_Feature)\n",
    "x_categorical = x[categorical_Feature]"
   ]
  },
  {
   "cell_type": "markdown",
   "id": "3333ff25",
   "metadata": {},
   "source": [
    "### 범주형 데이터 정규화"
   ]
  },
  {
   "cell_type": "code",
   "execution_count": 18,
   "id": "a67c8a3d",
   "metadata": {
    "scrolled": true
   },
   "outputs": [],
   "source": [
    "le = LabelEncoder()\n",
    "for col in categorical_Feature:\n",
    "    x[col] = le.fit_transform(x[col])"
   ]
  },
  {
   "cell_type": "code",
   "execution_count": 19,
   "id": "19ece2b6",
   "metadata": {},
   "outputs": [],
   "source": [
    "# flgs_encoding = pd.get_dummies(x['flgs'])\n",
    "# proto_encoding = pd.get_dummies(x['proto'])\n",
    "# state_encoding = pd.get_dummies(x['state'])\n",
    "# x_categorical = pd.concat([flgs_encoding, proto_encoding, state_encoding], axis = 1)\n",
    "# x_categorical"
   ]
  },
  {
   "cell_type": "markdown",
   "id": "8ee97ea9",
   "metadata": {},
   "source": [
    "### 수치형 데이터 정규화"
   ]
  },
  {
   "cell_type": "code",
   "execution_count": 20,
   "id": "999a0ddb",
   "metadata": {},
   "outputs": [],
   "source": [
    "from sklearn.preprocessing import StandardScaler\n",
    "scaler = StandardScaler()\n",
    "scaler.fit(x)\n",
    "x_scaled = scaler.transform(x)\n",
    "X = pd.DataFrame(x_scaled, columns=x.columns)"
   ]
  },
  {
   "cell_type": "code",
   "execution_count": 21,
   "id": "adf47e24",
   "metadata": {
    "scrolled": true
   },
   "outputs": [
    {
     "data": {
      "text/html": [
       "<div>\n",
       "<style scoped>\n",
       "    .dataframe tbody tr th:only-of-type {\n",
       "        vertical-align: middle;\n",
       "    }\n",
       "\n",
       "    .dataframe tbody tr th {\n",
       "        vertical-align: top;\n",
       "    }\n",
       "\n",
       "    .dataframe thead th {\n",
       "        text-align: right;\n",
       "    }\n",
       "</style>\n",
       "<table border=\"1\" class=\"dataframe\">\n",
       "  <thead>\n",
       "    <tr style=\"text-align: right;\">\n",
       "      <th></th>\n",
       "      <th>stime</th>\n",
       "      <th>flgs</th>\n",
       "      <th>proto</th>\n",
       "      <th>pkts</th>\n",
       "      <th>bytes</th>\n",
       "      <th>state</th>\n",
       "      <th>ltime</th>\n",
       "      <th>seq</th>\n",
       "      <th>dur</th>\n",
       "      <th>mean</th>\n",
       "      <th>...</th>\n",
       "      <th>sum</th>\n",
       "      <th>min</th>\n",
       "      <th>max</th>\n",
       "      <th>spkts</th>\n",
       "      <th>dpkts</th>\n",
       "      <th>sbytes</th>\n",
       "      <th>dbytes</th>\n",
       "      <th>rate</th>\n",
       "      <th>srate</th>\n",
       "      <th>drate</th>\n",
       "    </tr>\n",
       "  </thead>\n",
       "  <tbody>\n",
       "    <tr>\n",
       "      <th>0</th>\n",
       "      <td>0.499202</td>\n",
       "      <td>0.249550</td>\n",
       "      <td>0.035327</td>\n",
       "      <td>0.008558</td>\n",
       "      <td>-0.002475</td>\n",
       "      <td>0.61514</td>\n",
       "      <td>0.499234</td>\n",
       "      <td>-1.026884</td>\n",
       "      <td>0.775422</td>\n",
       "      <td>0.111594</td>\n",
       "      <td>...</td>\n",
       "      <td>0.001382</td>\n",
       "      <td>1.241333</td>\n",
       "      <td>-0.172211</td>\n",
       "      <td>0.005376</td>\n",
       "      <td>0.011438</td>\n",
       "      <td>-0.002862</td>\n",
       "      <td>-0.001169</td>\n",
       "      <td>-0.101865</td>\n",
       "      <td>-0.061000</td>\n",
       "      <td>-0.062870</td>\n",
       "    </tr>\n",
       "    <tr>\n",
       "      <th>1</th>\n",
       "      <td>0.499202</td>\n",
       "      <td>0.249550</td>\n",
       "      <td>0.035327</td>\n",
       "      <td>0.008558</td>\n",
       "      <td>-0.002475</td>\n",
       "      <td>0.61514</td>\n",
       "      <td>0.499234</td>\n",
       "      <td>-1.026873</td>\n",
       "      <td>0.775422</td>\n",
       "      <td>0.111594</td>\n",
       "      <td>...</td>\n",
       "      <td>0.001382</td>\n",
       "      <td>1.241333</td>\n",
       "      <td>-0.172212</td>\n",
       "      <td>0.005376</td>\n",
       "      <td>0.011438</td>\n",
       "      <td>-0.002862</td>\n",
       "      <td>-0.001169</td>\n",
       "      <td>-0.101865</td>\n",
       "      <td>-0.061000</td>\n",
       "      <td>-0.062870</td>\n",
       "    </tr>\n",
       "    <tr>\n",
       "      <th>2</th>\n",
       "      <td>0.499202</td>\n",
       "      <td>0.249550</td>\n",
       "      <td>0.035327</td>\n",
       "      <td>0.008558</td>\n",
       "      <td>-0.002475</td>\n",
       "      <td>0.61514</td>\n",
       "      <td>0.499234</td>\n",
       "      <td>-1.026862</td>\n",
       "      <td>0.775422</td>\n",
       "      <td>0.111594</td>\n",
       "      <td>...</td>\n",
       "      <td>0.001382</td>\n",
       "      <td>1.241333</td>\n",
       "      <td>-0.172212</td>\n",
       "      <td>0.005376</td>\n",
       "      <td>0.011438</td>\n",
       "      <td>-0.002862</td>\n",
       "      <td>-0.001169</td>\n",
       "      <td>-0.101865</td>\n",
       "      <td>-0.061000</td>\n",
       "      <td>-0.062870</td>\n",
       "    </tr>\n",
       "    <tr>\n",
       "      <th>3</th>\n",
       "      <td>0.499202</td>\n",
       "      <td>0.249550</td>\n",
       "      <td>0.035327</td>\n",
       "      <td>0.008558</td>\n",
       "      <td>-0.002475</td>\n",
       "      <td>0.61514</td>\n",
       "      <td>0.499234</td>\n",
       "      <td>-1.026851</td>\n",
       "      <td>0.776809</td>\n",
       "      <td>0.151908</td>\n",
       "      <td>...</td>\n",
       "      <td>0.005367</td>\n",
       "      <td>1.396772</td>\n",
       "      <td>-0.149056</td>\n",
       "      <td>0.005376</td>\n",
       "      <td>0.011438</td>\n",
       "      <td>-0.002862</td>\n",
       "      <td>-0.001169</td>\n",
       "      <td>-0.101865</td>\n",
       "      <td>-0.061000</td>\n",
       "      <td>-0.062870</td>\n",
       "    </tr>\n",
       "    <tr>\n",
       "      <th>4</th>\n",
       "      <td>0.499202</td>\n",
       "      <td>0.249550</td>\n",
       "      <td>0.035327</td>\n",
       "      <td>0.008558</td>\n",
       "      <td>-0.002475</td>\n",
       "      <td>0.61514</td>\n",
       "      <td>0.499234</td>\n",
       "      <td>-1.026839</td>\n",
       "      <td>0.776809</td>\n",
       "      <td>0.151908</td>\n",
       "      <td>...</td>\n",
       "      <td>0.005367</td>\n",
       "      <td>1.396762</td>\n",
       "      <td>-0.149055</td>\n",
       "      <td>0.005376</td>\n",
       "      <td>0.011438</td>\n",
       "      <td>-0.002862</td>\n",
       "      <td>-0.001169</td>\n",
       "      <td>-0.101865</td>\n",
       "      <td>-0.061000</td>\n",
       "      <td>-0.062870</td>\n",
       "    </tr>\n",
       "    <tr>\n",
       "      <th>...</th>\n",
       "      <td>...</td>\n",
       "      <td>...</td>\n",
       "      <td>...</td>\n",
       "      <td>...</td>\n",
       "      <td>...</td>\n",
       "      <td>...</td>\n",
       "      <td>...</td>\n",
       "      <td>...</td>\n",
       "      <td>...</td>\n",
       "      <td>...</td>\n",
       "      <td>...</td>\n",
       "      <td>...</td>\n",
       "      <td>...</td>\n",
       "      <td>...</td>\n",
       "      <td>...</td>\n",
       "      <td>...</td>\n",
       "      <td>...</td>\n",
       "      <td>...</td>\n",
       "      <td>...</td>\n",
       "      <td>...</td>\n",
       "      <td>...</td>\n",
       "    </tr>\n",
       "    <tr>\n",
       "      <th>8999995</th>\n",
       "      <td>0.497433</td>\n",
       "      <td>0.679391</td>\n",
       "      <td>0.035327</td>\n",
       "      <td>-0.008689</td>\n",
       "      <td>-0.003144</td>\n",
       "      <td>-0.69179</td>\n",
       "      <td>0.497448</td>\n",
       "      <td>-0.447726</td>\n",
       "      <td>0.472767</td>\n",
       "      <td>-0.371110</td>\n",
       "      <td>...</td>\n",
       "      <td>-0.046340</td>\n",
       "      <td>-0.342409</td>\n",
       "      <td>-0.327065</td>\n",
       "      <td>-0.006938</td>\n",
       "      <td>-0.009140</td>\n",
       "      <td>-0.003457</td>\n",
       "      <td>-0.001621</td>\n",
       "      <td>-0.101872</td>\n",
       "      <td>-0.061033</td>\n",
       "      <td>-0.062904</td>\n",
       "    </tr>\n",
       "    <tr>\n",
       "      <th>8999996</th>\n",
       "      <td>0.497433</td>\n",
       "      <td>0.679391</td>\n",
       "      <td>0.035327</td>\n",
       "      <td>-0.008689</td>\n",
       "      <td>-0.003144</td>\n",
       "      <td>-0.69179</td>\n",
       "      <td>0.497448</td>\n",
       "      <td>-0.447715</td>\n",
       "      <td>0.472767</td>\n",
       "      <td>-0.371110</td>\n",
       "      <td>...</td>\n",
       "      <td>-0.046340</td>\n",
       "      <td>-0.342409</td>\n",
       "      <td>-0.327065</td>\n",
       "      <td>-0.006938</td>\n",
       "      <td>-0.009140</td>\n",
       "      <td>-0.003457</td>\n",
       "      <td>-0.001621</td>\n",
       "      <td>-0.101872</td>\n",
       "      <td>-0.061033</td>\n",
       "      <td>-0.062904</td>\n",
       "    </tr>\n",
       "    <tr>\n",
       "      <th>8999997</th>\n",
       "      <td>0.497433</td>\n",
       "      <td>0.679391</td>\n",
       "      <td>0.035327</td>\n",
       "      <td>-0.008689</td>\n",
       "      <td>-0.003144</td>\n",
       "      <td>-0.69179</td>\n",
       "      <td>0.497448</td>\n",
       "      <td>-0.447704</td>\n",
       "      <td>0.472767</td>\n",
       "      <td>-0.371110</td>\n",
       "      <td>...</td>\n",
       "      <td>-0.046340</td>\n",
       "      <td>-0.342409</td>\n",
       "      <td>-0.327065</td>\n",
       "      <td>-0.006938</td>\n",
       "      <td>-0.009140</td>\n",
       "      <td>-0.003457</td>\n",
       "      <td>-0.001621</td>\n",
       "      <td>-0.101872</td>\n",
       "      <td>-0.061033</td>\n",
       "      <td>-0.062904</td>\n",
       "    </tr>\n",
       "    <tr>\n",
       "      <th>8999998</th>\n",
       "      <td>0.497433</td>\n",
       "      <td>0.679391</td>\n",
       "      <td>0.035327</td>\n",
       "      <td>-0.008689</td>\n",
       "      <td>-0.003144</td>\n",
       "      <td>-0.69179</td>\n",
       "      <td>0.497448</td>\n",
       "      <td>-0.447692</td>\n",
       "      <td>0.472767</td>\n",
       "      <td>-0.371110</td>\n",
       "      <td>...</td>\n",
       "      <td>-0.046340</td>\n",
       "      <td>-0.342409</td>\n",
       "      <td>-0.327065</td>\n",
       "      <td>-0.006938</td>\n",
       "      <td>-0.009140</td>\n",
       "      <td>-0.003457</td>\n",
       "      <td>-0.001621</td>\n",
       "      <td>-0.101872</td>\n",
       "      <td>-0.061033</td>\n",
       "      <td>-0.062904</td>\n",
       "    </tr>\n",
       "    <tr>\n",
       "      <th>8999999</th>\n",
       "      <td>0.497433</td>\n",
       "      <td>0.679391</td>\n",
       "      <td>0.035327</td>\n",
       "      <td>-0.008689</td>\n",
       "      <td>-0.003144</td>\n",
       "      <td>-0.69179</td>\n",
       "      <td>0.497448</td>\n",
       "      <td>-0.447681</td>\n",
       "      <td>0.472767</td>\n",
       "      <td>-0.371110</td>\n",
       "      <td>...</td>\n",
       "      <td>-0.046340</td>\n",
       "      <td>-0.342409</td>\n",
       "      <td>-0.327065</td>\n",
       "      <td>-0.006938</td>\n",
       "      <td>-0.009140</td>\n",
       "      <td>-0.003457</td>\n",
       "      <td>-0.001621</td>\n",
       "      <td>-0.101872</td>\n",
       "      <td>-0.061033</td>\n",
       "      <td>-0.062904</td>\n",
       "    </tr>\n",
       "  </tbody>\n",
       "</table>\n",
       "<p>9000000 rows × 21 columns</p>\n",
       "</div>"
      ],
      "text/plain": [
       "            stime      flgs     proto      pkts     bytes    state     ltime  \\\n",
       "0        0.499202  0.249550  0.035327  0.008558 -0.002475  0.61514  0.499234   \n",
       "1        0.499202  0.249550  0.035327  0.008558 -0.002475  0.61514  0.499234   \n",
       "2        0.499202  0.249550  0.035327  0.008558 -0.002475  0.61514  0.499234   \n",
       "3        0.499202  0.249550  0.035327  0.008558 -0.002475  0.61514  0.499234   \n",
       "4        0.499202  0.249550  0.035327  0.008558 -0.002475  0.61514  0.499234   \n",
       "...           ...       ...       ...       ...       ...      ...       ...   \n",
       "8999995  0.497433  0.679391  0.035327 -0.008689 -0.003144 -0.69179  0.497448   \n",
       "8999996  0.497433  0.679391  0.035327 -0.008689 -0.003144 -0.69179  0.497448   \n",
       "8999997  0.497433  0.679391  0.035327 -0.008689 -0.003144 -0.69179  0.497448   \n",
       "8999998  0.497433  0.679391  0.035327 -0.008689 -0.003144 -0.69179  0.497448   \n",
       "8999999  0.497433  0.679391  0.035327 -0.008689 -0.003144 -0.69179  0.497448   \n",
       "\n",
       "              seq       dur      mean  ...       sum       min       max  \\\n",
       "0       -1.026884  0.775422  0.111594  ...  0.001382  1.241333 -0.172211   \n",
       "1       -1.026873  0.775422  0.111594  ...  0.001382  1.241333 -0.172212   \n",
       "2       -1.026862  0.775422  0.111594  ...  0.001382  1.241333 -0.172212   \n",
       "3       -1.026851  0.776809  0.151908  ...  0.005367  1.396772 -0.149056   \n",
       "4       -1.026839  0.776809  0.151908  ...  0.005367  1.396762 -0.149055   \n",
       "...           ...       ...       ...  ...       ...       ...       ...   \n",
       "8999995 -0.447726  0.472767 -0.371110  ... -0.046340 -0.342409 -0.327065   \n",
       "8999996 -0.447715  0.472767 -0.371110  ... -0.046340 -0.342409 -0.327065   \n",
       "8999997 -0.447704  0.472767 -0.371110  ... -0.046340 -0.342409 -0.327065   \n",
       "8999998 -0.447692  0.472767 -0.371110  ... -0.046340 -0.342409 -0.327065   \n",
       "8999999 -0.447681  0.472767 -0.371110  ... -0.046340 -0.342409 -0.327065   \n",
       "\n",
       "            spkts     dpkts    sbytes    dbytes      rate     srate     drate  \n",
       "0        0.005376  0.011438 -0.002862 -0.001169 -0.101865 -0.061000 -0.062870  \n",
       "1        0.005376  0.011438 -0.002862 -0.001169 -0.101865 -0.061000 -0.062870  \n",
       "2        0.005376  0.011438 -0.002862 -0.001169 -0.101865 -0.061000 -0.062870  \n",
       "3        0.005376  0.011438 -0.002862 -0.001169 -0.101865 -0.061000 -0.062870  \n",
       "4        0.005376  0.011438 -0.002862 -0.001169 -0.101865 -0.061000 -0.062870  \n",
       "...           ...       ...       ...       ...       ...       ...       ...  \n",
       "8999995 -0.006938 -0.009140 -0.003457 -0.001621 -0.101872 -0.061033 -0.062904  \n",
       "8999996 -0.006938 -0.009140 -0.003457 -0.001621 -0.101872 -0.061033 -0.062904  \n",
       "8999997 -0.006938 -0.009140 -0.003457 -0.001621 -0.101872 -0.061033 -0.062904  \n",
       "8999998 -0.006938 -0.009140 -0.003457 -0.001621 -0.101872 -0.061033 -0.062904  \n",
       "8999999 -0.006938 -0.009140 -0.003457 -0.001621 -0.101872 -0.061033 -0.062904  \n",
       "\n",
       "[9000000 rows x 21 columns]"
      ]
     },
     "execution_count": 21,
     "metadata": {},
     "output_type": "execute_result"
    }
   ],
   "source": [
    "X"
   ]
  },
  {
   "cell_type": "markdown",
   "id": "aadb79c5",
   "metadata": {},
   "source": [
    "### Target이 범주형 데이터이므로 LabelEncoder사용"
   ]
  },
  {
   "cell_type": "code",
   "execution_count": 22,
   "id": "54247310",
   "metadata": {},
   "outputs": [],
   "source": [
    "le = LabelEncoder()\n",
    "y = le.fit_transform(y)"
   ]
  },
  {
   "cell_type": "markdown",
   "id": "a42d2844",
   "metadata": {},
   "source": [
    "### Train & Test 분리"
   ]
  },
  {
   "cell_type": "code",
   "execution_count": 23,
   "id": "37099148",
   "metadata": {},
   "outputs": [],
   "source": [
    "X_train, X_test, y_train, y_test = train_test_split(X, y, test_size=0.3, random_state=42)"
   ]
  },
  {
   "cell_type": "markdown",
   "id": "0b076071",
   "metadata": {},
   "source": [
    "### Random Forest 학습"
   ]
  },
  {
   "cell_type": "code",
   "execution_count": 24,
   "id": "b9575eb6",
   "metadata": {
    "scrolled": true
   },
   "outputs": [
    {
     "name": "stdout",
     "output_type": "stream",
     "text": [
      "0.9998848148148148\n"
     ]
    }
   ],
   "source": [
    "rf = RandomForestClassifier(n_estimators=20, max_depth=5,random_state=42)\n",
    "rf.fit(X_train,y_train)\n",
    "predict1 = rf.predict(X_test)\n",
    "print(accuracy_score(y_test,predict1))"
   ]
  },
  {
   "cell_type": "code",
   "execution_count": 25,
   "id": "755d909d",
   "metadata": {
    "scrolled": true
   },
   "outputs": [
    {
     "data": {
      "text/plain": [
       "DoS               7169420\n",
       "Reconnaissance    1821639\n",
       "Normal               7354\n",
       "Theft                1587\n",
       "Name: category, dtype: int64"
      ]
     },
     "execution_count": 25,
     "metadata": {},
     "output_type": "execute_result"
    }
   ],
   "source": [
    "data['category'].value_counts()"
   ]
  },
  {
   "cell_type": "code",
   "execution_count": 26,
   "id": "9fc34b4c",
   "metadata": {
    "scrolled": true
   },
   "outputs": [
    {
     "data": {
      "text/plain": [
       "array([0, 0, 0, ..., 2, 2, 0])"
      ]
     },
     "execution_count": 26,
     "metadata": {},
     "output_type": "execute_result"
    }
   ],
   "source": [
    "y_test"
   ]
  },
  {
   "cell_type": "code",
   "execution_count": 27,
   "id": "59ac63d5",
   "metadata": {},
   "outputs": [
    {
     "name": "stdout",
     "output_type": "stream",
     "text": [
      "[[2151156       0       0       0]\n",
      " [     25    1935     242       7]\n",
      " [      0      37  546110       0]\n",
      " [      0       0       0     488]]\n"
     ]
    },
    {
     "data": {
      "image/png": "[encoded data removed]",
      "text/plain": [
       "<Figure size 1152x504 with 2 Axes>"
      ]
     },
     "metadata": {
      "needs_background": "light"
     },
     "output_type": "display_data"
    }
   ],
   "source": [
    "# Get and reshape confusion matrix data\n",
    "matrix = confusion_matrix(y_test, predict1)\n",
    "print(matrix)\n",
    "matrix = matrix.astype('float') / matrix.sum(axis=1)[:, np.newaxis]\n",
    "# Build the plot\n",
    "plt.figure(figsize=(16,7))\n",
    "sns.set(font_scale=1.4)\n",
    "sns.heatmap(matrix, annot=True, annot_kws={'size':10},\n",
    "            cmap=plt.cm.Greens, linewidths=0.2)\n",
    "\n",
    "# Add labels to the plot\n",
    "class_names = ['Dos', 'Normal', 'Reconnaissance', \n",
    "               'Theft']\n",
    "tick_marks = np.arange(len(class_names))\n",
    "tick_marks2 = tick_marks + 0.5\n",
    "plt.xticks(tick_marks, class_names, rotation=25)\n",
    "plt.yticks(tick_marks2, class_names, rotation=0)\n",
    "plt.xlabel('Predicted label')\n",
    "plt.ylabel('True label')\n",
    "plt.title('Confusion Matrix for Random Forest Model')\n",
    "plt.show()"
   ]
  },
  {
   "cell_type": "markdown",
   "id": "911ad531",
   "metadata": {},
   "source": [
    "## Feature의 중요도 "
   ]
  },
  {
   "cell_type": "code",
   "execution_count": 28,
   "id": "ce7b16aa",
   "metadata": {
    "scrolled": true
   },
   "outputs": [
    {
     "data": {
      "text/plain": [
       "array([2.68805231e-01, 3.41437888e-02, 3.22076039e-03, 5.94977835e-04,\n",
       "       1.36395135e-01, 2.93655097e-03, 1.74079912e-01, 7.34952906e-05,\n",
       "       1.23988557e-01, 5.43233454e-03, 1.65056719e-05, 8.48113389e-04,\n",
       "       5.72769242e-03, 5.49542255e-03, 8.39438063e-04, 8.32004666e-04,\n",
       "       1.49403811e-01, 1.46380670e-04, 4.40974012e-02, 4.29086129e-02,\n",
       "       1.38749931e-05])"
      ]
     },
     "execution_count": 28,
     "metadata": {},
     "output_type": "execute_result"
    }
   ],
   "source": [
    "rf.feature_importances_"
   ]
  },
  {
   "cell_type": "code",
   "execution_count": 29,
   "id": "eff5909b",
   "metadata": {
    "scrolled": true
   },
   "outputs": [
    {
     "data": {
      "image/png": "[encoded data removed]",
      "text/plain": [
       "<Figure size 576x432 with 1 Axes>"
      ]
     },
     "metadata": {
      "needs_background": "light"
     },
     "output_type": "display_data"
    }
   ],
   "source": [
    "import matplotlib.pyplot as plt\n",
    "import seaborn as sns\n",
    "%matplotlib inline\n",
    "\n",
    "ftr_importances_values = rf.feature_importances_\n",
    "ftr_importances = pd.Series(ftr_importances_values, index = X_train.columns)\n",
    "ftr_top20 = ftr_importances.sort_values(ascending=False)[:20]\n",
    "\n",
    "plt.figure(figsize=(8,6))\n",
    "plt.title('Top 20 Feature Importances')\n",
    "sns.barplot(x=ftr_top20, y=ftr_top20.index)\n",
    "plt.show()"
   ]
  },
  {
   "cell_type": "markdown",
   "id": "15163aca",
   "metadata": {},
   "source": [
    "### GridSearchCV를 통한 최적의 파라미터 계산"
   ]
  },
  {
   "cell_type": "code",
   "execution_count": null,
   "id": "13314ddf",
   "metadata": {
    "scrolled": false
   },
   "outputs": [],
   "source": [
    "params = { 'n_estimators' : list(range(0, 50, 10)),\n",
    "           'max_depth' : list(range(0, 20, 5)),\n",
    "            }\n",
    "\n",
    "# RandomForestClassifier 객체 생성 후 GridSearchCV 수행\n",
    "rf_clf = RandomForestClassifier(n_jobs = -1)\n",
    "grid_cv = GridSearchCV(rf_clf, param_grid = params, cv = 3, n_jobs = -1)\n",
    "grid_cv.fit(X_train, y_train)\n",
    "\n",
    "print('최적 하이퍼 파라미터: ', grid_cv.best_params_)\n",
    "print('최고 예측 정확도: {:.4f}'.format(grid_cv.best_score_))"
   ]
  },
  {
   "cell_type": "markdown",
   "id": "044a24d7",
   "metadata": {},
   "source": [
    "### RandomizedSearchCV를 통한 최적의 파라미터 계산"
   ]
  },
  {
   "cell_type": "code",
   "execution_count": null,
   "id": "0ff2228d",
   "metadata": {},
   "outputs": [],
   "source": [
    "n_estimators = [int(x) for x in np.linspace(start = 10, stop = 80, num = 10)]\n",
    "max_features = ['sqrt', 'log2']\n",
    "max_depth = [2,4, 6, 8]\n",
    "min_samples_split = [2, 5]\n",
    "min_samples_leaf = [1, 2]\n",
    "bootstrap = [True, False]"
   ]
  },
  {
   "cell_type": "code",
   "execution_count": null,
   "id": "758de75f",
   "metadata": {},
   "outputs": [],
   "source": [
    "param_grid = {'n_estimators': n_estimators,\n",
    "               'max_features': max_features,\n",
    "               'max_depth': max_depth,\n",
    "               'min_samples_split': min_samples_split,\n",
    "               'min_samples_leaf': min_samples_leaf,\n",
    "               'bootstrap': bootstrap}"
   ]
  },
  {
   "cell_type": "code",
   "execution_count": null,
   "id": "5bf0a428",
   "metadata": {},
   "outputs": [],
   "source": [
    "rf_Model = RandomForestClassifier()"
   ]
  },
  {
   "cell_type": "code",
   "execution_count": null,
   "id": "428e6f9a",
   "metadata": {},
   "outputs": [],
   "source": [
    "from sklearn.model_selection import RandomizedSearchCV\n",
    "rf_RandomGrid = RandomizedSearchCV(estimator = rf_Model, param_distributions = param_grid, cv = 10, verbose=2, n_jobs = 4)"
   ]
  },
  {
   "cell_type": "code",
   "execution_count": null,
   "id": "b0a582ca",
   "metadata": {},
   "outputs": [],
   "source": [
    "rf_RandomGrid.fit(X_train, y_train)"
   ]
  },
  {
   "cell_type": "code",
   "execution_count": null,
   "id": "24adb65c",
   "metadata": {},
   "outputs": [],
   "source": [
    "param_score = pd.DataFrame(rf_RandomGrid.cv_results_).sort_values('rank_test_score')\n",
    "param_score[param_score.rank_test_score == 1]"
   ]
  }
 ],
 "metadata": {
  "kernelspec": {
   "display_name": "Python 3 (ipykernel)",
   "language": "python",
   "name": "python3"
  },
  "language_info": {
   "codemirror_mode": {
    "name": "ipython",
    "version": 3
   },
   "file_extension": ".py",
   "mimetype": "text/x-python",
   "name": "python",
   "nbconvert_exporter": "python",
   "pygments_lexer": "ipython3",
   "version": "3.9.7"
  }
 },
 "nbformat": 4,
 "nbformat_minor": 5
}
